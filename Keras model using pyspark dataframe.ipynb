{
    "nbformat_minor": 1, 
    "cells": [
        {
            "execution_count": 139, 
            "cell_type": "code", 
            "source": "\nimport ibmos2spark\n# @hidden_cell\ncredentials = {\n    'endpoint': 'https://s3-api.us-geo.objectstorage.service.networklayer.com',\n    'service_id': 'iam-ServiceId-05ab914c-2647-4655-a774-046065e40648',\n    'iam_service_endpoint': 'https://iam.bluemix.net/oidc/token',\n    'api_key': 'PGXBGSbZAGDQ0FTVUVX99kEaENnOj_hfxNqSpPo6d1MJ'\n}\n\nconfiguration_name = 'os_d5e255d53c97413bad14470512fa886c_configs'\ncos = ibmos2spark.CloudObjectStorage(sc, credentials, configuration_name, 'bluemix_cos')\n\nfrom pyspark.sql import SparkSession\nspark = SparkSession.builder.getOrCreate()\ndf = spark.read\\\n  .format('org.apache.spark.sql.execution.datasources.csv.CSVFileFormat')\\\n  .option('header', 'true')\\\n  .load(cos.url('chronic_kidney_disease_dataset.csv', 'courserads-donotdelete-pr-y8rkc0wxhkrruq'))\ndf.take(5)\n", 
            "outputs": [
                {
                    "execution_count": 139, 
                    "output_type": "execute_result", 
                    "data": {
                        "text/plain": "[Row(age='48', bp='80', sg='1.02', al='1', su='0', rbc='?', pc='normal', pcc='notpresent', ba='notpresent', bgr='121', bu='36', sc='1.2', sod='?', pot='?', hemo='15.4', pcv='44', wbcc='7800', rbcc='5.2', htn='yes', dm='yes', cad='no', appet='good', pe='no', ane='no', class='ckd', _c25=None),\n Row(age='7', bp='50', sg='1.02', al='4', su='0', rbc='?', pc='normal', pcc='notpresent', ba='notpresent', bgr='?', bu='18', sc='0.8', sod='?', pot='?', hemo='11.3', pcv='38', wbcc='6000', rbcc='?', htn='no', dm='no', cad='no', appet='good', pe='no', ane='no', class='ckd', _c25=None),\n Row(age='62', bp='80', sg='1.01', al='2', su='3', rbc='normal', pc='normal', pcc='notpresent', ba='notpresent', bgr='423', bu='53', sc='1.8', sod='?', pot='?', hemo='9.6', pcv='31', wbcc='7500', rbcc='?', htn='no', dm='yes', cad='no', appet='poor', pe='no', ane='yes', class='ckd', _c25=None),\n Row(age='48', bp='70', sg='1.005', al='4', su='0', rbc='normal', pc='abnormal', pcc='present', ba='notpresent', bgr='117', bu='56', sc='3.8', sod='111', pot='2.5', hemo='11.2', pcv='32', wbcc='6700', rbcc='3.9', htn='yes', dm='no', cad='no', appet='poor', pe='yes', ane='yes', class='ckd', _c25=None),\n Row(age='51', bp='80', sg='1.01', al='2', su='0', rbc='normal', pc='normal', pcc='notpresent', ba='notpresent', bgr='106', bu='26', sc='1.4', sod='?', pot='?', hemo='11.6', pcv='35', wbcc='7300', rbcc='4.6', htn='no', dm='no', cad='no', appet='good', pe='no', ane='no', class='ckd', _c25=None)]"
                    }, 
                    "metadata": {}
                }
            ], 
            "metadata": {}
        }, 
        {
            "source": "# Exploratory Data Analysis", 
            "cell_type": "markdown", 
            "metadata": {}
        }, 
        {
            "execution_count": 140, 
            "cell_type": "code", 
            "source": "import numpy as np", 
            "outputs": [], 
            "metadata": {}
        }, 
        {
            "execution_count": 141, 
            "cell_type": "code", 
            "source": "df.describe()", 
            "outputs": [
                {
                    "execution_count": 141, 
                    "output_type": "execute_result", 
                    "data": {
                        "text/plain": "DataFrame[summary: string, age: string, bp: string, sg: string, al: string, su: string, rbc: string, pc: string, pcc: string, ba: string, bgr: string, bu: string, sc: string, sod: string, pot: string, hemo: string, pcv: string, wbcc: string, rbcc: string, htn: string, dm: string, cad: string, appet: string, pe: string, ane: string, class: string, _c25: string]"
                    }, 
                    "metadata": {}
                }
            ], 
            "metadata": {}
        }, 
        {
            "execution_count": 142, 
            "cell_type": "code", 
            "source": "df.show()", 
            "outputs": [
                {
                    "output_type": "stream", 
                    "name": "stdout", 
                    "text": "+---+---+-----+---+---+--------+--------+----------+----------+---+---+---+---+---+----+---+-----+----+---+---+---+-----+---+---+-----+----+\n|age| bp|   sg| al| su|     rbc|      pc|       pcc|        ba|bgr| bu| sc|sod|pot|hemo|pcv| wbcc|rbcc|htn| dm|cad|appet| pe|ane|class|_c25|\n+---+---+-----+---+---+--------+--------+----------+----------+---+---+---+---+---+----+---+-----+----+---+---+---+-----+---+---+-----+----+\n| 48| 80| 1.02|  1|  0|       ?|  normal|notpresent|notpresent|121| 36|1.2|  ?|  ?|15.4| 44| 7800| 5.2|yes|yes| no| good| no| no|  ckd|null|\n|  7| 50| 1.02|  4|  0|       ?|  normal|notpresent|notpresent|  ?| 18|0.8|  ?|  ?|11.3| 38| 6000|   ?| no| no| no| good| no| no|  ckd|null|\n| 62| 80| 1.01|  2|  3|  normal|  normal|notpresent|notpresent|423| 53|1.8|  ?|  ?| 9.6| 31| 7500|   ?| no|yes| no| poor| no|yes|  ckd|null|\n| 48| 70|1.005|  4|  0|  normal|abnormal|   present|notpresent|117| 56|3.8|111|2.5|11.2| 32| 6700| 3.9|yes| no| no| poor|yes|yes|  ckd|null|\n| 51| 80| 1.01|  2|  0|  normal|  normal|notpresent|notpresent|106| 26|1.4|  ?|  ?|11.6| 35| 7300| 4.6| no| no| no| good| no| no|  ckd|null|\n| 60| 90|1.015|  3|  0|       ?|       ?|notpresent|notpresent| 74| 25|1.1|142|3.2|12.2| 39| 7800| 4.4|yes|yes| no| good|yes| no|  ckd|null|\n| 68| 70| 1.01|  0|  0|       ?|  normal|notpresent|notpresent|100| 54| 24|104|  4|12.4| 36|    ?|   ?| no| no| no| good| no| no|  ckd|null|\n| 24|  ?|1.015|  2|  4|  normal|abnormal|notpresent|notpresent|410| 31|1.1|  ?|  ?|12.4| 44| 6900|   5| no|yes| no| good|yes| no|  ckd|null|\n| 52|100|1.015|  3|  0|  normal|abnormal|   present|notpresent|138| 60|1.9|  ?|  ?|10.8| 33| 9600|   4|yes|yes| no| good| no|yes|  ckd|null|\n| 53| 90| 1.02|  2|  0|abnormal|abnormal|   present|notpresent| 70|107|7.2|114|3.7| 9.5| 29|12100| 3.7|yes|yes| no| poor| no|yes|  ckd|null|\n| 50| 60| 1.01|  2|  4|       ?|abnormal|   present|notpresent|490| 55|  4|  ?|  ?| 9.4| 28|    ?|   ?|yes|yes| no| good| no|yes|  ckd|null|\n| 63| 70| 1.01|  3|  0|abnormal|abnormal|   present|notpresent|380| 60|2.7|131|4.2|10.8| 32| 4500| 3.8|yes|yes| no| poor|yes| no|  ckd|null|\n| 68| 70|1.015|  3|  1|       ?|  normal|   present|notpresent|208| 72|2.1|138|5.8| 9.7| 28|12200| 3.4|yes|yes|yes| poor|yes| no|  ckd|null|\n| 68| 70|    ?|  ?|  ?|       ?|       ?|notpresent|notpresent| 98| 86|4.6|135|3.4| 9.8|  ?|    ?|   ?|yes|yes|yes| poor|yes| no|  ckd|null|\n| 68| 80| 1.01|  3|  2|  normal|abnormal|   present|   present|157| 90|4.1|130|6.4| 5.6| 16|11000| 2.6|yes|yes|yes| poor|yes| no|  ckd|null|\n| 40| 80|1.015|  3|  0|       ?|  normal|notpresent|notpresent| 76|162|9.6|141|4.9| 7.6| 24| 3800| 2.8|yes| no| no| good| no|yes|  ckd|null|\n| 47| 70|1.015|  2|  0|       ?|  normal|notpresent|notpresent| 99| 46|2.2|138|4.1|12.6|  ?|    ?|   ?| no| no| no| good| no| no|  ckd|null|\n| 47| 80|    ?|  ?|  ?|       ?|       ?|notpresent|notpresent|114| 87|5.2|139|3.7|12.1|  ?|    ?|   ?|yes| no| no| poor| no| no|  ckd|null|\n| 60|100|1.025|  0|  3|       ?|  normal|notpresent|notpresent|263| 27|1.3|135|4.3|12.7| 37|11400| 4.3|yes|yes|yes| good| no| no|  ckd|null|\n| 62| 60|1.015|  1|  0|       ?|abnormal|   present|notpresent|100| 31|1.6|  ?|  ?|10.3| 30| 5300| 3.7|yes| no|yes| good| no| no|  ckd|null|\n+---+---+-----+---+---+--------+--------+----------+----------+---+---+---+---+---+----+---+-----+----+---+---+---+-----+---+---+-----+----+\nonly showing top 20 rows\n\n"
                }
            ], 
            "metadata": {}
        }, 
        {
            "execution_count": 143, 
            "cell_type": "code", 
            "source": "df.columns", 
            "outputs": [
                {
                    "execution_count": 143, 
                    "output_type": "execute_result", 
                    "data": {
                        "text/plain": "['age',\n 'bp',\n 'sg',\n 'al',\n 'su',\n 'rbc',\n 'pc',\n 'pcc',\n 'ba',\n 'bgr',\n 'bu',\n 'sc',\n 'sod',\n 'pot',\n 'hemo',\n 'pcv',\n 'wbcc',\n 'rbcc',\n 'htn',\n 'dm',\n 'cad',\n 'appet',\n 'pe',\n 'ane',\n 'class',\n '_c25']"
                    }, 
                    "metadata": {}
                }
            ], 
            "metadata": {}
        }, 
        {
            "execution_count": 144, 
            "cell_type": "code", 
            "source": "for col in df.columns:\n     df.describe([col]).show()", 
            "outputs": [
                {
                    "output_type": "stream", 
                    "name": "stdout", 
                    "text": "+-------+-----------------+\n|summary|              age|\n+-------+-----------------+\n|  count|              400|\n|   mean|51.48337595907928|\n| stddev|17.16971408926224|\n|    min|               11|\n|    max|                ?|\n+-------+-----------------+\n\n+-------+-----------------+\n|summary|               bp|\n+-------+-----------------+\n|  count|              400|\n|   mean|76.46907216494846|\n| stddev|13.68363749352527|\n|    min|              100|\n|    max|                ?|\n+-------+-----------------+\n\n+-------+--------------------+\n|summary|                  sg|\n+-------+--------------------+\n|  count|                 400|\n|   mean|  1.0174079320113256|\n| stddev|0.005716616974376756|\n|    min|               1.005|\n|    max|                   ?|\n+-------+--------------------+\n\n+-------+------------------+\n|summary|                al|\n+-------+------------------+\n|  count|               400|\n|   mean|1.0169491525423728|\n| stddev|1.3526789127628445|\n|    min|                 0|\n|    max|                 ?|\n+-------+------------------+\n\n+-------+-------------------+\n|summary|                 su|\n+-------+-------------------+\n|  count|                400|\n|   mean|0.45014245014245013|\n| stddev|  1.099191251885407|\n|    min|                  0|\n|    max|                  ?|\n+-------+-------------------+\n\n+-------+------+\n|summary|   rbc|\n+-------+------+\n|  count|   400|\n|   mean|  null|\n| stddev|  null|\n|    min|     ?|\n|    max|normal|\n+-------+------+\n\n+-------+------+\n|summary|    pc|\n+-------+------+\n|  count|   400|\n|   mean|  null|\n| stddev|  null|\n|    min|     ?|\n|    max|normal|\n+-------+------+\n\n+-------+-------+\n|summary|    pcc|\n+-------+-------+\n|  count|    400|\n|   mean|   null|\n| stddev|   null|\n|    min|      ?|\n|    max|present|\n+-------+-------+\n\n+-------+-------+\n|summary|     ba|\n+-------+-------+\n|  count|    400|\n|   mean|   null|\n| stddev|   null|\n|    min|      ?|\n|    max|present|\n+-------+-------+\n\n+-------+-----------------+\n|summary|              bgr|\n+-------+-----------------+\n|  count|              400|\n|   mean|148.0365168539326|\n| stddev|79.28171423511773|\n|    min|              100|\n|    max|                ?|\n+-------+-----------------+\n\n+-------+------------------+\n|summary|                bu|\n+-------+------------------+\n|  count|               400|\n|   mean|57.425721784776904|\n| stddev|50.503005849222504|\n|    min|               1.5|\n|    max|                 ?|\n+-------+------------------+\n\n+-------+------------------+\n|summary|                sc|\n+-------+------------------+\n|  count|               400|\n|   mean|3.0724543080939934|\n| stddev| 5.741126066859789|\n|    min|               0.4|\n|    max|                 ?|\n+-------+------------------+\n\n+-------+------------------+\n|summary|               sod|\n+-------+------------------+\n|  count|               400|\n|   mean|137.52875399361022|\n| stddev|10.408752051798777|\n|    min|               104|\n|    max|                 ?|\n+-------+------------------+\n\n+-------+-----------------+\n|summary|              pot|\n+-------+-----------------+\n|  count|              400|\n|   mean|4.627243589743592|\n| stddev|3.193904176556695|\n|    min|              2.5|\n|    max|                ?|\n+-------+-----------------+\n\n+-------+------------------+\n|summary|              hemo|\n+-------+------------------+\n|  count|               400|\n|   mean|12.526436781609195|\n| stddev| 2.912586608826765|\n|    min|                10|\n|    max|                 ?|\n+-------+------------------+\n\n+-------+-----------------+\n|summary|              pcv|\n+-------+-----------------+\n|  count|              400|\n|   mean|38.88449848024316|\n| stddev|8.990104814740933|\n|    min|              \t43|\n|    max|                ?|\n+-------+-----------------+\n\n+-------+------------------+\n|summary|              wbcc|\n+-------+------------------+\n|  count|               400|\n|   mean| 8406.122448979591|\n| stddev|2944.4741904103385|\n|    min|             \t6200|\n|    max|                 ?|\n+-------+------------------+\n\n+-------+------------------+\n|summary|              rbcc|\n+-------+------------------+\n|  count|               400|\n|   mean| 4.707434944237919|\n| stddev|1.0253232655721791|\n|    min|                \t?|\n|    max|                 ?|\n+-------+------------------+\n\n+-------+----+\n|summary| htn|\n+-------+----+\n|  count| 400|\n|   mean|null|\n| stddev|null|\n|    min|   ?|\n|    max| yes|\n+-------+----+\n\n+-------+----+\n|summary|  dm|\n+-------+----+\n|  count| 399|\n|   mean|null|\n| stddev|null|\n|    min| \tno|\n|    max| yes|\n+-------+----+\n\n+-------+----+\n|summary| cad|\n+-------+----+\n|  count| 400|\n|   mean|null|\n| stddev|null|\n|    min| \tno|\n|    max| yes|\n+-------+----+\n\n+-------+-----+\n|summary|appet|\n+-------+-----+\n|  count|  400|\n|   mean| null|\n| stddev| null|\n|    min|    ?|\n|    max| poor|\n+-------+-----+\n\n+-------+----+\n|summary|  pe|\n+-------+----+\n|  count| 400|\n|   mean|null|\n| stddev|null|\n|    min|   ?|\n|    max| yes|\n+-------+----+\n\n+-------+----+\n|summary| ane|\n+-------+----+\n|  count| 400|\n|   mean|null|\n| stddev|null|\n|    min|   ?|\n|    max| yes|\n+-------+----+\n\n+-------+------+\n|summary| class|\n+-------+------+\n|  count|   400|\n|   mean|  null|\n| stddev|  null|\n|    min|   ckd|\n|    max|notckd|\n+-------+------+\n\n+-------+------+\n|summary|  _c25|\n+-------+------+\n|  count|     1|\n|   mean|  null|\n| stddev|  null|\n|    min|notckd|\n|    max|notckd|\n+-------+------+\n\n"
                }
            ], 
            "metadata": {}
        }, 
        {
            "execution_count": 145, 
            "cell_type": "code", 
            "source": "df = df.drop(\"_c25\")", 
            "outputs": [], 
            "metadata": {}
        }, 
        {
            "execution_count": 146, 
            "cell_type": "code", 
            "source": "for col in df.columns:\n     df.describe([col]).show()", 
            "outputs": [
                {
                    "output_type": "stream", 
                    "name": "stdout", 
                    "text": "+-------+-----------------+\n|summary|              age|\n+-------+-----------------+\n|  count|              400|\n|   mean|51.48337595907928|\n| stddev|17.16971408926224|\n|    min|               11|\n|    max|                ?|\n+-------+-----------------+\n\n+-------+-----------------+\n|summary|               bp|\n+-------+-----------------+\n|  count|              400|\n|   mean|76.46907216494846|\n| stddev|13.68363749352527|\n|    min|              100|\n|    max|                ?|\n+-------+-----------------+\n\n+-------+--------------------+\n|summary|                  sg|\n+-------+--------------------+\n|  count|                 400|\n|   mean|  1.0174079320113256|\n| stddev|0.005716616974376756|\n|    min|               1.005|\n|    max|                   ?|\n+-------+--------------------+\n\n+-------+------------------+\n|summary|                al|\n+-------+------------------+\n|  count|               400|\n|   mean|1.0169491525423728|\n| stddev|1.3526789127628445|\n|    min|                 0|\n|    max|                 ?|\n+-------+------------------+\n\n+-------+-------------------+\n|summary|                 su|\n+-------+-------------------+\n|  count|                400|\n|   mean|0.45014245014245013|\n| stddev|  1.099191251885407|\n|    min|                  0|\n|    max|                  ?|\n+-------+-------------------+\n\n+-------+------+\n|summary|   rbc|\n+-------+------+\n|  count|   400|\n|   mean|  null|\n| stddev|  null|\n|    min|     ?|\n|    max|normal|\n+-------+------+\n\n+-------+------+\n|summary|    pc|\n+-------+------+\n|  count|   400|\n|   mean|  null|\n| stddev|  null|\n|    min|     ?|\n|    max|normal|\n+-------+------+\n\n+-------+-------+\n|summary|    pcc|\n+-------+-------+\n|  count|    400|\n|   mean|   null|\n| stddev|   null|\n|    min|      ?|\n|    max|present|\n+-------+-------+\n\n+-------+-------+\n|summary|     ba|\n+-------+-------+\n|  count|    400|\n|   mean|   null|\n| stddev|   null|\n|    min|      ?|\n|    max|present|\n+-------+-------+\n\n+-------+-----------------+\n|summary|              bgr|\n+-------+-----------------+\n|  count|              400|\n|   mean|148.0365168539326|\n| stddev|79.28171423511773|\n|    min|              100|\n|    max|                ?|\n+-------+-----------------+\n\n+-------+------------------+\n|summary|                bu|\n+-------+------------------+\n|  count|               400|\n|   mean|57.425721784776904|\n| stddev|50.503005849222504|\n|    min|               1.5|\n|    max|                 ?|\n+-------+------------------+\n\n+-------+------------------+\n|summary|                sc|\n+-------+------------------+\n|  count|               400|\n|   mean|3.0724543080939934|\n| stddev| 5.741126066859789|\n|    min|               0.4|\n|    max|                 ?|\n+-------+------------------+\n\n+-------+------------------+\n|summary|               sod|\n+-------+------------------+\n|  count|               400|\n|   mean|137.52875399361022|\n| stddev|10.408752051798777|\n|    min|               104|\n|    max|                 ?|\n+-------+------------------+\n\n+-------+-----------------+\n|summary|              pot|\n+-------+-----------------+\n|  count|              400|\n|   mean|4.627243589743592|\n| stddev|3.193904176556695|\n|    min|              2.5|\n|    max|                ?|\n+-------+-----------------+\n\n+-------+------------------+\n|summary|              hemo|\n+-------+------------------+\n|  count|               400|\n|   mean|12.526436781609195|\n| stddev| 2.912586608826765|\n|    min|                10|\n|    max|                 ?|\n+-------+------------------+\n\n+-------+-----------------+\n|summary|              pcv|\n+-------+-----------------+\n|  count|              400|\n|   mean|38.88449848024316|\n| stddev|8.990104814740933|\n|    min|              \t43|\n|    max|                ?|\n+-------+-----------------+\n\n+-------+------------------+\n|summary|              wbcc|\n+-------+------------------+\n|  count|               400|\n|   mean| 8406.122448979591|\n| stddev|2944.4741904103385|\n|    min|             \t6200|\n|    max|                 ?|\n+-------+------------------+\n\n+-------+------------------+\n|summary|              rbcc|\n+-------+------------------+\n|  count|               400|\n|   mean| 4.707434944237919|\n| stddev|1.0253232655721791|\n|    min|                \t?|\n|    max|                 ?|\n+-------+------------------+\n\n+-------+----+\n|summary| htn|\n+-------+----+\n|  count| 400|\n|   mean|null|\n| stddev|null|\n|    min|   ?|\n|    max| yes|\n+-------+----+\n\n+-------+----+\n|summary|  dm|\n+-------+----+\n|  count| 399|\n|   mean|null|\n| stddev|null|\n|    min| \tno|\n|    max| yes|\n+-------+----+\n\n+-------+----+\n|summary| cad|\n+-------+----+\n|  count| 400|\n|   mean|null|\n| stddev|null|\n|    min| \tno|\n|    max| yes|\n+-------+----+\n\n+-------+-----+\n|summary|appet|\n+-------+-----+\n|  count|  400|\n|   mean| null|\n| stddev| null|\n|    min|    ?|\n|    max| poor|\n+-------+-----+\n\n+-------+----+\n|summary|  pe|\n+-------+----+\n|  count| 400|\n|   mean|null|\n| stddev|null|\n|    min|   ?|\n|    max| yes|\n+-------+----+\n\n+-------+----+\n|summary| ane|\n+-------+----+\n|  count| 400|\n|   mean|null|\n| stddev|null|\n|    min|   ?|\n|    max| yes|\n+-------+----+\n\n+-------+------+\n|summary| class|\n+-------+------+\n|  count|   400|\n|   mean|  null|\n| stddev|  null|\n|    min|   ckd|\n|    max|notckd|\n+-------+------+\n\n"
                }
            ], 
            "metadata": {}
        }, 
        {
            "execution_count": 147, 
            "cell_type": "code", 
            "source": "#check unique values for class\ndf.select('class').distinct().rdd.map(lambda r: r[0]).collect()", 
            "outputs": [
                {
                    "execution_count": 147, 
                    "output_type": "execute_result", 
                    "data": {
                        "text/plain": "['notckd', 'ckd', 'no', 'ckd\\t']"
                    }, 
                    "metadata": {}
                }
            ], 
            "metadata": {}
        }, 
        {
            "execution_count": 148, 
            "cell_type": "code", 
            "source": "#filter out those rows\ndf.filter(df['class']==\"ckd\\t\").show()", 
            "outputs": [
                {
                    "output_type": "stream", 
                    "name": "stdout", 
                    "text": "+---+---+----+---+---+------+--------+----------+----------+---+---+---+---+---+----+---+----+----+---+---+---+-----+---+---+-----+\n|age| bp|  sg| al| su|   rbc|      pc|       pcc|        ba|bgr| bu| sc|sod|pot|hemo|pcv|wbcc|rbcc|htn| dm|cad|appet| pe|ane|class|\n+---+---+----+---+---+------+--------+----------+----------+---+---+---+---+---+----+---+----+----+---+---+---+-----+---+---+-----+\n| 72| 80|   ?|  ?|  ?|     ?|       ?|notpresent|notpresent|137| 65|3.4|141|4.7| 9.7| 28|6900| 2.5|yes|yes| no| poor| no|yes| ckd\t|\n| 65| 60|1.01|  2|  0|normal|abnormal|   present|notpresent|192| 17|1.7|130|4.3|   ?|  ?|9500|   ?|yes|yes| no| poor| no| no| ckd\t|\n+---+---+----+---+---+------+--------+----------+----------+---+---+---+---+---+----+---+----+----+---+---+---+-----+---+---+-----+\n\n"
                }
            ], 
            "metadata": {}
        }, 
        {
            "execution_count": 149, 
            "cell_type": "code", 
            "source": "#since 'ckd\\t' is the same class as of 'ckd', so we replaced first to correct one.\nfrom pyspark.sql.functions import when, lit\ndf = df.withColumn('class', when(df['class']=='ckd\\t', \nlit(\"ckd\")).otherwise(df['class']))\n", 
            "outputs": [], 
            "metadata": {}
        }, 
        {
            "execution_count": 150, 
            "cell_type": "code", 
            "source": "#Validate that there is no more left after replacing\ndf.filter(df['class']==\"ckd\\t\").show()", 
            "outputs": [
                {
                    "output_type": "stream", 
                    "name": "stdout", 
                    "text": "+---+---+---+---+---+---+---+---+---+---+---+---+---+---+----+---+----+----+---+---+---+-----+---+---+-----+\n|age| bp| sg| al| su|rbc| pc|pcc| ba|bgr| bu| sc|sod|pot|hemo|pcv|wbcc|rbcc|htn| dm|cad|appet| pe|ane|class|\n+---+---+---+---+---+---+---+---+---+---+---+---+---+---+----+---+----+----+---+---+---+-----+---+---+-----+\n+---+---+---+---+---+---+---+---+---+---+---+---+---+---+----+---+----+----+---+---+---+-----+---+---+-----+\n\n"
                }
            ], 
            "metadata": {}
        }, 
        {
            "execution_count": 151, 
            "cell_type": "code", 
            "source": "#replace no with notckd of class column\nfrom pyspark.sql.functions import when, lit\ndf = df.withColumn('class', when(df['class']=='no', \nlit(\"notckd\")).otherwise(df['class']))\n", 
            "outputs": [], 
            "metadata": {}
        }, 
        {
            "execution_count": 152, 
            "cell_type": "code", 
            "source": "#validate now  unique values for class\ndf.select('class').distinct().rdd.map(lambda r: r[0]).collect()", 
            "outputs": [
                {
                    "execution_count": 152, 
                    "output_type": "execute_result", 
                    "data": {
                        "text/plain": "['notckd', 'ckd']"
                    }, 
                    "metadata": {}
                }
            ], 
            "metadata": {}
        }, 
        {
            "execution_count": 153, 
            "cell_type": "code", 
            "source": "#Count the value of null in every column\nfor col in df.columns:\n    print(col, \"\\t\", \"with null values: \", df.filter(df[col].isNull()).count())\n    \n", 
            "outputs": [
                {
                    "output_type": "stream", 
                    "name": "stdout", 
                    "text": "age \t with null values:  0\nbp \t with null values:  0\nsg \t with null values:  0\nal \t with null values:  0\nsu \t with null values:  0\nrbc \t with null values:  0\npc \t with null values:  0\npcc \t with null values:  0\nba \t with null values:  0\nbgr \t with null values:  0\nbu \t with null values:  0\nsc \t with null values:  0\nsod \t with null values:  0\npot \t with null values:  0\nhemo \t with null values:  0\npcv \t with null values:  0\nwbcc \t with null values:  0\nrbcc \t with null values:  0\nhtn \t with null values:  0\ndm \t with null values:  1\ncad \t with null values:  0\nappet \t with null values:  0\npe \t with null values:  0\nane \t with null values:  0\nclass \t with null values:  0\n"
                }
            ], 
            "metadata": {}
        }, 
        {
            "execution_count": 154, 
            "cell_type": "code", 
            "source": "#Count the value of '?' in every column\nfor col in df.columns:\n    print(col, \"\\t\", \"with '?' values: \", df.filter(df[col]==\"?\").count())", 
            "outputs": [
                {
                    "output_type": "stream", 
                    "name": "stdout", 
                    "text": "age \t with '?' values:  9\nbp \t with '?' values:  12\nsg \t with '?' values:  47\nal \t with '?' values:  46\nsu \t with '?' values:  49\nrbc \t with '?' values:  152\npc \t with '?' values:  65\npcc \t with '?' values:  4\nba \t with '?' values:  4\nbgr \t with '?' values:  44\nbu \t with '?' values:  19\nsc \t with '?' values:  17\nsod \t with '?' values:  87\npot \t with '?' values:  88\nhemo \t with '?' values:  52\npcv \t with '?' values:  70\nwbcc \t with '?' values:  105\nrbcc \t with '?' values:  130\nhtn \t with '?' values:  2\ndm \t with '?' values:  2\ncad \t with '?' values:  2\nappet \t with '?' values:  1\npe \t with '?' values:  1\nane \t with '?' values:  1\nclass \t with '?' values:  0\n"
                }
            ], 
            "metadata": {}
        }, 
        {
            "execution_count": 155, 
            "cell_type": "code", 
            "source": "#since in our dataset, column value is represented through '?' and None, so we will first replace the '? with None values.'\ndf = df.replace('?',None)\ndf = df.replace('\\t?',None)\ndf = df.replace('?\\t',None)\ndf = df.replace('\\tno',\"no\")\ndf = df.replace('no\\t',\"no\")\ndf = df.replace('\\tyes',\"yes\")\ndf = df.replace('yes\\t',\"yes\")", 
            "outputs": [], 
            "metadata": {}
        }, 
        {
            "execution_count": 156, 
            "cell_type": "code", 
            "source": "#Now for validation Count the value of '?' in every column\nfor col in df.columns:\n    print(col, \"\\t\", \"with '?' values: \", df.filter(df[col]==\"?\").count())", 
            "outputs": [
                {
                    "output_type": "stream", 
                    "name": "stdout", 
                    "text": "age \t with '?' values:  0\nbp \t with '?' values:  0\nsg \t with '?' values:  0\nal \t with '?' values:  0\nsu \t with '?' values:  0\nrbc \t with '?' values:  0\npc \t with '?' values:  0\npcc \t with '?' values:  0\nba \t with '?' values:  0\nbgr \t with '?' values:  0\nbu \t with '?' values:  0\nsc \t with '?' values:  0\nsod \t with '?' values:  0\npot \t with '?' values:  0\nhemo \t with '?' values:  0\npcv \t with '?' values:  0\nwbcc \t with '?' values:  0\nrbcc \t with '?' values:  0\nhtn \t with '?' values:  0\ndm \t with '?' values:  0\ncad \t with '?' values:  0\nappet \t with '?' values:  0\npe \t with '?' values:  0\nane \t with '?' values:  0\nclass \t with '?' values:  0\n"
                }
            ], 
            "metadata": {}
        }, 
        {
            "execution_count": 157, 
            "cell_type": "code", 
            "source": "#Now for validation Count the value of null in every column\nfor col in df.columns:\n    print(col, \"\\t\", \"with null values: \", df.filter(df[col].isNull()).count())\n    ", 
            "outputs": [
                {
                    "output_type": "stream", 
                    "name": "stdout", 
                    "text": "age \t with null values:  9\nbp \t with null values:  12\nsg \t with null values:  47\nal \t with null values:  46\nsu \t with null values:  49\nrbc \t with null values:  152\npc \t with null values:  65\npcc \t with null values:  4\nba \t with null values:  4\nbgr \t with null values:  44\nbu \t with null values:  19\nsc \t with null values:  17\nsod \t with null values:  87\npot \t with null values:  88\nhemo \t with null values:  52\npcv \t with null values:  71\nwbcc \t with null values:  106\nrbcc \t with null values:  131\nhtn \t with null values:  2\ndm \t with null values:  3\ncad \t with null values:  2\nappet \t with null values:  1\npe \t with null values:  1\nane \t with null values:  1\nclass \t with null values:  0\n"
                }
            ], 
            "metadata": {}
        }, 
        {
            "execution_count": 158, 
            "cell_type": "code", 
            "source": "#Computation for mean", 
            "outputs": [], 
            "metadata": {}
        }, 
        {
            "execution_count": 159, 
            "cell_type": "code", 
            "source": "#Find the average of a column\n\nfrom pyspark.sql.functions import avg\n\nmean_value = df.select(avg(df['age']))", 
            "outputs": [], 
            "metadata": {}
        }, 
        {
            "execution_count": 160, 
            "cell_type": "code", 
            "source": "mean_value", 
            "outputs": [
                {
                    "execution_count": 160, 
                    "output_type": "execute_result", 
                    "data": {
                        "text/plain": "DataFrame[avg(age): double]"
                    }, 
                    "metadata": {}
                }
            ], 
            "metadata": {}
        }, 
        {
            "execution_count": 161, 
            "cell_type": "code", 
            "source": "mean_value.columns", 
            "outputs": [
                {
                    "execution_count": 161, 
                    "output_type": "execute_result", 
                    "data": {
                        "text/plain": "['avg(age)']"
                    }, 
                    "metadata": {}
                }
            ], 
            "metadata": {}
        }, 
        {
            "execution_count": 162, 
            "cell_type": "code", 
            "source": "res = mean_value.rdd.map(lambda row : row['avg(age)']).collect()\n\n", 
            "outputs": [], 
            "metadata": {}
        }, 
        {
            "execution_count": 163, 
            "cell_type": "code", 
            "source": "res", 
            "outputs": [
                {
                    "execution_count": 163, 
                    "output_type": "execute_result", 
                    "data": {
                        "text/plain": "[51.48337595907928]"
                    }, 
                    "metadata": {}
                }
            ], 
            "metadata": {}
        }, 
        {
            "execution_count": 164, 
            "cell_type": "code", 
            "source": "#Complete function to find the mean of columns of pyspark dataframe", 
            "outputs": [], 
            "metadata": {}
        }, 
        {
            "execution_count": 165, 
            "cell_type": "code", 
            "source": "#Find the avg of all numeric columns\nfrom pyspark.sql.functions import avg\n\ndef mean_of_pyspark_columns(df, numeric_cols, verbose=False):\n    col_with_mean=[]\n    for col in numeric_cols:\n        mean_value = df.select(avg(df[col]))\n        avg_col = mean_value.columns[0]\n        res = mean_value.rdd.map(lambda row : row[avg_col]).collect()\n        \n        if (verbose==True): print(mean_value.columns[0], \"\\t\", res[0])\n        col_with_mean.append([col, res[0]])    \n    return col_with_mean   \n    \n", 
            "outputs": [], 
            "metadata": {}
        }, 
        {
            "execution_count": 166, 
            "cell_type": "code", 
            "source": "#Validate it\nnumeric_cols=['age', 'bp', 'sg','bgr', 'bu', 'sc', 'sod', 'pot', 'hemo', 'pcv', 'wbcc', 'rbcc']    \nmean_of_pyspark_columns(df, numeric_cols, verbose=True)    ", 
            "outputs": [
                {
                    "output_type": "stream", 
                    "name": "stdout", 
                    "text": "avg(age) \t 51.48337595907928\navg(bp) \t 76.46907216494846\navg(sg) \t 1.0174079320113256\navg(bgr) \t 148.0365168539326\navg(bu) \t 57.425721784776904\navg(sc) \t 3.0724543080939934\navg(sod) \t 137.52875399361022\navg(pot) \t 4.627243589743592\navg(hemo) \t 12.526436781609195\navg(pcv) \t 38.88449848024316\navg(wbcc) \t 8406.122448979591\navg(rbcc) \t 4.707434944237919\n"
                }, 
                {
                    "execution_count": 166, 
                    "output_type": "execute_result", 
                    "data": {
                        "text/plain": "[['age', 51.48337595907928],\n ['bp', 76.46907216494846],\n ['sg', 1.0174079320113256],\n ['bgr', 148.0365168539326],\n ['bu', 57.425721784776904],\n ['sc', 3.0724543080939934],\n ['sod', 137.52875399361022],\n ['pot', 4.627243589743592],\n ['hemo', 12.526436781609195],\n ['pcv', 38.88449848024316],\n ['wbcc', 8406.122448979591],\n ['rbcc', 4.707434944237919]]"
                    }, 
                    "metadata": {}
                }
            ], 
            "metadata": {}
        }, 
        {
            "execution_count": 167, 
            "cell_type": "code", 
            "source": "#Complete function to find the mode of columns of pyspark dataframe", 
            "outputs": [], 
            "metadata": {}
        }, 
        {
            "execution_count": 168, 
            "cell_type": "code", 
            "source": "def mode_of_pyspark_columns(df, cat_col_list, verbose=False):\n    col_with_mode=[]\n    for col in cat_col_list:\n        #Filter null\n        df = df.filter(df[col].isNull()==False)\n        #Find unique_values_with_count\n        unique_classes = df.select(col).distinct().rdd.map(lambda x: x[0]).collect()\n        unique_values_with_count=[]\n        for uc in unique_classes:\n             unique_values_with_count.append([uc, df.filter(df[col]==uc).count()])\n        #sort unique values w.r.t their count values\n        sorted_unique_values_with_count= sorted(unique_values_with_count, key = lambda x: x[1], reverse =True)\n        \n        if (verbose==True): print(col, sorted_unique_values_with_count, \" and mode is \", sorted_unique_values_with_count[0][0])\n        col_with_mode.append([col, sorted_unique_values_with_count[0][0]])\n    return col_with_mode", 
            "outputs": [], 
            "metadata": {}
        }, 
        {
            "execution_count": 169, 
            "cell_type": "code", 
            "source": "#Validate it\ncat_col_list=['al', 'su', 'rbc', 'pc', 'pcc', 'ba', 'htn', 'dm', 'cad', 'appet', 'pe', 'ane']\nmode_of_pyspark_columns(df, cat_col_list, verbose=True)", 
            "outputs": [
                {
                    "output_type": "stream", 
                    "name": "stdout", 
                    "text": "al [['0', 199], ['1', 44], ['3', 43], ['2', 43], ['4', 24], ['5', 1]]  and mode is  0\nsu [['0', 290], ['2', 18], ['3', 14], ['1', 13], ['4', 13], ['5', 3]]  and mode is  0\nrbc [['normal', 198], ['abnormal', 47]]  and mode is  normal\npc [['normal', 180], ['abnormal', 58]]  and mode is  normal\npcc [['notpresent', 207], ['present', 28]]  and mode is  notpresent\nba [['notpresent', 218], ['present', 17]]  and mode is  notpresent\nhtn [['no', 172], ['yes', 61]]  and mode is  no\ndm [['no', 181], ['yes', 51]]  and mode is  no\ncad [['no', 216], ['yes', 16]]  and mode is  no\nappet [['good', 191], ['poor', 40]]  and mode is  good\npe [['no', 190], ['yes', 41]]  and mode is  no\nane [['no', 201], ['yes', 30]]  and mode is  no\n"
                }, 
                {
                    "execution_count": 169, 
                    "output_type": "execute_result", 
                    "data": {
                        "text/plain": "[['al', '0'],\n ['su', '0'],\n ['rbc', 'normal'],\n ['pc', 'normal'],\n ['pcc', 'notpresent'],\n ['ba', 'notpresent'],\n ['htn', 'no'],\n ['dm', 'no'],\n ['cad', 'no'],\n ['appet', 'good'],\n ['pe', 'no'],\n ['ane', 'no']]"
                    }, 
                    "metadata": {}
                }
            ], 
            "metadata": {}
        }, 
        {
            "execution_count": 170, 
            "cell_type": "code", 
            "source": "#as you can see from the above that we have to replace for colmun 'cad' also\nfrom pyspark.sql.functions import when, lit\ndf = df.withColumn('cad', when(df['cad']=='\\tno', \nlit(\"no\")).otherwise(df['cad']))", 
            "outputs": [], 
            "metadata": {}
        }, 
        {
            "execution_count": 171, 
            "cell_type": "code", 
            "source": "df.select('cad').distinct().show()", 
            "outputs": [
                {
                    "output_type": "stream", 
                    "name": "stdout", 
                    "text": "+----+\n| cad|\n+----+\n|null|\n|  no|\n| yes|\n+----+\n\n"
                }
            ], 
            "metadata": {}
        }, 
        {
            "execution_count": 172, 
            "cell_type": "code", 
            "source": "#Now we have found our bits and pieces, its time to integrate them\n\n#Fill missing values for mean and mode", 
            "outputs": [], 
            "metadata": {}
        }, 
        {
            "execution_count": 173, 
            "cell_type": "code", 
            "source": "#Fill missing values for mean\nfrom pyspark.sql.functions import when, lit\n\ndef fill_missing_with_mean(df, numeric_cols):\n    col_with_mean = mean_of_pyspark_columns(df, numeric_cols) \n    \n    for col, mean in col_with_mean:\n        df = df.withColumn(col, when(df[col].isNull()==True, \n        lit(mean)).otherwise(df[col]))\n        \n    return df", 
            "outputs": [], 
            "metadata": {}
        }, 
        {
            "execution_count": 174, 
            "cell_type": "code", 
            "source": "#Now this is the time to literally consume the fill_missing_with_mean\n\nnumeric_cols=['age', 'bp', 'sg','bgr', 'bu', 'sc', 'sod', 'pot', 'hemo', 'pcv', 'wbcc', 'rbcc']     \ndf = fill_missing_with_mean(df, numeric_cols)", 
            "outputs": [], 
            "metadata": {}
        }, 
        {
            "execution_count": 175, 
            "cell_type": "code", 
            "source": "df.show()", 
            "outputs": [
                {
                    "output_type": "stream", 
                    "name": "stdout", 
                    "text": "+---+-----------------+------------------+----+----+--------+--------+----------+----------+-----------------+---+---+------------------+-----------------+----+-----------------+-----------------+-----------------+---+---+---+-----+---+---+-----+\n|age|               bp|                sg|  al|  su|     rbc|      pc|       pcc|        ba|              bgr| bu| sc|               sod|              pot|hemo|              pcv|             wbcc|             rbcc|htn| dm|cad|appet| pe|ane|class|\n+---+-----------------+------------------+----+----+--------+--------+----------+----------+-----------------+---+---+------------------+-----------------+----+-----------------+-----------------+-----------------+---+---+---+-----+---+---+-----+\n| 48|               80|              1.02|   1|   0|    null|  normal|notpresent|notpresent|              121| 36|1.2|137.52875399361022|4.627243589743592|15.4|               44|             7800|              5.2|yes|yes| no| good| no| no|  ckd|\n|  7|               50|              1.02|   4|   0|    null|  normal|notpresent|notpresent|148.0365168539326| 18|0.8|137.52875399361022|4.627243589743592|11.3|               38|             6000|4.707434944237919| no| no| no| good| no| no|  ckd|\n| 62|               80|              1.01|   2|   3|  normal|  normal|notpresent|notpresent|              423| 53|1.8|137.52875399361022|4.627243589743592| 9.6|               31|             7500|4.707434944237919| no|yes| no| poor| no|yes|  ckd|\n| 48|               70|             1.005|   4|   0|  normal|abnormal|   present|notpresent|              117| 56|3.8|               111|              2.5|11.2|               32|             6700|              3.9|yes| no| no| poor|yes|yes|  ckd|\n| 51|               80|              1.01|   2|   0|  normal|  normal|notpresent|notpresent|              106| 26|1.4|137.52875399361022|4.627243589743592|11.6|               35|             7300|              4.6| no| no| no| good| no| no|  ckd|\n| 60|               90|             1.015|   3|   0|    null|    null|notpresent|notpresent|               74| 25|1.1|               142|              3.2|12.2|               39|             7800|              4.4|yes|yes| no| good|yes| no|  ckd|\n| 68|               70|              1.01|   0|   0|    null|  normal|notpresent|notpresent|              100| 54| 24|               104|                4|12.4|               36|8406.122448979591|4.707434944237919| no| no| no| good| no| no|  ckd|\n| 24|76.46907216494846|             1.015|   2|   4|  normal|abnormal|notpresent|notpresent|              410| 31|1.1|137.52875399361022|4.627243589743592|12.4|               44|             6900|                5| no|yes| no| good|yes| no|  ckd|\n| 52|              100|             1.015|   3|   0|  normal|abnormal|   present|notpresent|              138| 60|1.9|137.52875399361022|4.627243589743592|10.8|               33|             9600|                4|yes|yes| no| good| no|yes|  ckd|\n| 53|               90|              1.02|   2|   0|abnormal|abnormal|   present|notpresent|               70|107|7.2|               114|              3.7| 9.5|               29|            12100|              3.7|yes|yes| no| poor| no|yes|  ckd|\n| 50|               60|              1.01|   2|   4|    null|abnormal|   present|notpresent|              490| 55|  4|137.52875399361022|4.627243589743592| 9.4|               28|8406.122448979591|4.707434944237919|yes|yes| no| good| no|yes|  ckd|\n| 63|               70|              1.01|   3|   0|abnormal|abnormal|   present|notpresent|              380| 60|2.7|               131|              4.2|10.8|               32|             4500|              3.8|yes|yes| no| poor|yes| no|  ckd|\n| 68|               70|             1.015|   3|   1|    null|  normal|   present|notpresent|              208| 72|2.1|               138|              5.8| 9.7|               28|            12200|              3.4|yes|yes|yes| poor|yes| no|  ckd|\n| 68|               70|1.0174079320113256|null|null|    null|    null|notpresent|notpresent|               98| 86|4.6|               135|              3.4| 9.8|38.88449848024316|8406.122448979591|4.707434944237919|yes|yes|yes| poor|yes| no|  ckd|\n| 68|               80|              1.01|   3|   2|  normal|abnormal|   present|   present|              157| 90|4.1|               130|              6.4| 5.6|               16|            11000|              2.6|yes|yes|yes| poor|yes| no|  ckd|\n| 40|               80|             1.015|   3|   0|    null|  normal|notpresent|notpresent|               76|162|9.6|               141|              4.9| 7.6|               24|             3800|              2.8|yes| no| no| good| no|yes|  ckd|\n| 47|               70|             1.015|   2|   0|    null|  normal|notpresent|notpresent|               99| 46|2.2|               138|              4.1|12.6|38.88449848024316|8406.122448979591|4.707434944237919| no| no| no| good| no| no|  ckd|\n| 47|               80|1.0174079320113256|null|null|    null|    null|notpresent|notpresent|              114| 87|5.2|               139|              3.7|12.1|38.88449848024316|8406.122448979591|4.707434944237919|yes| no| no| poor| no| no|  ckd|\n| 60|              100|             1.025|   0|   3|    null|  normal|notpresent|notpresent|              263| 27|1.3|               135|              4.3|12.7|               37|            11400|              4.3|yes|yes|yes| good| no| no|  ckd|\n| 62|               60|             1.015|   1|   0|    null|abnormal|   present|notpresent|              100| 31|1.6|137.52875399361022|4.627243589743592|10.3|               30|             5300|              3.7|yes| no|yes| good| no| no|  ckd|\n+---+-----------------+------------------+----+----+--------+--------+----------+----------+-----------------+---+---+------------------+-----------------+----+-----------------+-----------------+-----------------+---+---+---+-----+---+---+-----+\nonly showing top 20 rows\n\n"
                }
            ], 
            "metadata": {}
        }, 
        {
            "execution_count": 176, 
            "cell_type": "code", 
            "source": "#Fill missing values for mode\nfrom pyspark.sql.functions import when, lit\n\ndef fill_missing_with_mode(df, cat_col_list):\n    col_with_mode =mode_of_pyspark_columns(df, cat_col_list)\n    \n    for col, mode in col_with_mode:\n        df = df.withColumn(col, when(df[col].isNull()==True, \n        lit(mode)).otherwise(df[col]))\n        \n    return df", 
            "outputs": [], 
            "metadata": {}
        }, 
        {
            "execution_count": 177, 
            "cell_type": "code", 
            "source": "#Now this is the time to literally consume the fill_missing_with_mode\ncat_col_list=['al', 'su', 'rbc', 'pc', 'pcc', 'ba', 'htn', 'dm', 'cad', 'appet', 'pe', 'ane']\ndf = fill_missing_with_mode(df, cat_col_list)", 
            "outputs": [], 
            "metadata": {}
        }, 
        {
            "execution_count": 178, 
            "cell_type": "code", 
            "source": "#again validate that our awesome functions worked or not on true dataframe that is 'df'\nfor col in df.columns:\n     df.describe([col]).show()", 
            "outputs": [
                {
                    "output_type": "stream", 
                    "name": "stdout", 
                    "text": "+-------+----------------+\n|summary|             age|\n+-------+----------------+\n|  count|             400|\n|   mean|51.4833759590793|\n| stddev|16.9749662313574|\n|    min|              11|\n|    max|              90|\n+-------+----------------+\n\n+-------+-----------------+\n|summary|               bp|\n+-------+-----------------+\n|  count|              400|\n|   mean|76.46907216494844|\n| stddev|13.47629766150936|\n|    min|              100|\n|    max|               90|\n+-------+-----------------+\n\n+-------+--------------------+\n|summary|                  sg|\n+-------+--------------------+\n|  count|                 400|\n|   mean|   1.017407932011323|\n| stddev|0.005369377992466434|\n|    min|               1.005|\n|    max|               1.025|\n+-------+--------------------+\n\n+-------+------------------+\n|summary|                al|\n+-------+------------------+\n|  count|               400|\n|   mean|               0.9|\n| stddev|1.3131301447085713|\n|    min|                 0|\n|    max|                 5|\n+-------+------------------+\n\n+-------+-----------------+\n|summary|               su|\n+-------+-----------------+\n|  count|              400|\n|   mean|            0.395|\n| stddev|1.040038075262145|\n|    min|                0|\n|    max|                5|\n+-------+-----------------+\n\n+-------+--------+\n|summary|     rbc|\n+-------+--------+\n|  count|     400|\n|   mean|    null|\n| stddev|    null|\n|    min|abnormal|\n|    max|  normal|\n+-------+--------+\n\n+-------+--------+\n|summary|      pc|\n+-------+--------+\n|  count|     400|\n|   mean|    null|\n| stddev|    null|\n|    min|abnormal|\n|    max|  normal|\n+-------+--------+\n\n+-------+----------+\n|summary|       pcc|\n+-------+----------+\n|  count|       400|\n|   mean|      null|\n| stddev|      null|\n|    min|notpresent|\n|    max|   present|\n+-------+----------+\n\n+-------+----------+\n|summary|        ba|\n+-------+----------+\n|  count|       400|\n|   mean|      null|\n| stddev|      null|\n|    min|notpresent|\n|    max|   present|\n+-------+----------+\n\n+-------+------------------+\n|summary|               bgr|\n+-------+------------------+\n|  count|               400|\n|   mean|148.03651685393265|\n| stddev| 74.78263447653052|\n|    min|               100|\n|    max|                99|\n+-------+------------------+\n\n+-------+------------------+\n|summary|                bu|\n+-------+------------------+\n|  count|               400|\n|   mean| 57.42572178477692|\n| stddev|49.285887092376456|\n|    min|               1.5|\n|    max|              98.6|\n+-------+------------------+\n\n+-------+-----------------+\n|summary|               sc|\n+-------+-----------------+\n|  count|              400|\n|   mean|3.072454308093993|\n| stddev|5.617490117519301|\n|    min|              0.4|\n|    max|              9.7|\n+-------+-----------------+\n\n+-------+-----------------+\n|summary|              sod|\n+-------+-----------------+\n|  count|              400|\n|   mean|137.5287539936103|\n| stddev| 9.20427344548673|\n|    min|              104|\n|    max|              4.5|\n+-------+-----------------+\n\n+-------+------------------+\n|summary|               pot|\n+-------+------------------+\n|  count|               400|\n|   mean| 4.627243589743589|\n| stddev|2.8197826172844933|\n|    min|               2.5|\n|    max|               7.6|\n+-------+------------------+\n\n+-------+------------------+\n|summary|              hemo|\n+-------+------------------+\n|  count|               400|\n|   mean|12.526436781609211|\n| stddev|2.7161711873186567|\n|    min|                10|\n|    max|               9.9|\n+-------+------------------+\n\n+-------+------------------+\n|summary|               pcv|\n+-------+------------------+\n|  count|               400|\n|   mean|38.884498480243195|\n| stddev| 8.151081380700974|\n|    min|               \t43|\n|    max|                 9|\n+-------+------------------+\n\n+-------+------------------+\n|summary|              wbcc|\n+-------+------------------+\n|  count|               400|\n|   mean| 8406.122448979597|\n| stddev|2523.2199758633965|\n|    min|             \t6200|\n|    max|              9900|\n+-------+------------------+\n\n+-------+------------------+\n|summary|              rbcc|\n+-------+------------------+\n|  count|               400|\n|   mean| 4.707434944237918|\n| stddev|0.8403143136011171|\n|    min|               2.1|\n|    max|                 8|\n+-------+------------------+\n\n+-------+----+\n|summary| htn|\n+-------+----+\n|  count| 400|\n|   mean|null|\n| stddev|null|\n|    min|  no|\n|    max| yes|\n+-------+----+\n\n+-------+----+\n|summary|  dm|\n+-------+----+\n|  count| 400|\n|   mean|null|\n| stddev|null|\n|    min| yes|\n|    max| yes|\n+-------+----+\n\n+-------+----+\n|summary| cad|\n+-------+----+\n|  count| 400|\n|   mean|null|\n| stddev|null|\n|    min|  no|\n|    max| yes|\n+-------+----+\n\n+-------+-----+\n|summary|appet|\n+-------+-----+\n|  count|  400|\n|   mean| null|\n| stddev| null|\n|    min| good|\n|    max| poor|\n+-------+-----+\n\n+-------+----+\n|summary|  pe|\n+-------+----+\n|  count| 400|\n|   mean|null|\n| stddev|null|\n|    min|good|\n|    max| yes|\n+-------+----+\n\n+-------+----+\n|summary| ane|\n+-------+----+\n|  count| 400|\n|   mean|null|\n| stddev|null|\n|    min|  no|\n|    max| yes|\n+-------+----+\n\n+-------+------+\n|summary| class|\n+-------+------+\n|  count|   400|\n|   mean|  null|\n| stddev|  null|\n|    min|   ckd|\n|    max|notckd|\n+-------+------+\n\n"
                }
            ], 
            "metadata": {}
        }, 
        {
            "execution_count": 185, 
            "cell_type": "code", 
            "source": "from pyspark.ml.feature import StringIndexer\n\n\nindexer = StringIndexer(inputCol=\"class\", outputCol=\"classIndex\")\nindexed = indexer.fit(df).transform(df)\n#indexed.show()\n", 
            "outputs": [], 
            "metadata": {}
        }, 
        {
            "execution_count": 186, 
            "cell_type": "code", 
            "source": "from pyspark.ml.feature import StringIndexer\n\ncat_col_list=['al', 'su', 'rbc', 'pc', 'pcc', 'ba', 'htn', 'dm', 'cad', 'appet', 'pe', 'ane']\nfor col in cat_col_list:\n    indexer = StringIndexer(inputCol=col, outputCol=col + \"Index\")\n    indexed = indexer.fit(indexed).transform(indexed)\n#indexed.show()\n\n", 
            "outputs": [], 
            "metadata": {}
        }, 
        {
            "execution_count": 181, 
            "cell_type": "code", 
            "source": "\"\"\"numeric_cols=['age', 'bp', 'sg','bgr', 'bu', 'sc', 'sod', 'pot', 'hemo', 'pcv', 'wbcc', 'rbcc']\nindex_cat_col_list=['alIndex', 'suIndex', 'rbcIndex', 'pcIndex', 'pccIndex', 'baIndex', 'htnIndex', 'dmIndex', 'cadIndex', 'appetIndex', 'peIndex', 'aneIndex']\n\nfeatures_list=numeric_cols + index_cat_col_list\nfeatures_list\n\"\"\"", 
            "outputs": [
                {
                    "execution_count": 181, 
                    "output_type": "execute_result", 
                    "data": {
                        "text/plain": "\"numeric_cols=['age', 'bp', 'sg','bgr', 'bu', 'sc', 'sod', 'pot', 'hemo', 'pcv', 'wbcc', 'rbcc']\\nindex_cat_col_list=['alIndex', 'suIndex', 'rbcIndex', 'pcIndex', 'pccIndex', 'baIndex', 'htnIndex', 'dmIndex', 'cadIndex', 'appetIndex', 'peIndex', 'aneIndex']\\n\\nfeatures_list=numeric_cols + index_cat_col_list\\nfeatures_list\\n\""
                    }, 
                    "metadata": {}
                }
            ], 
            "metadata": {}
        }, 
        {
            "execution_count": 187, 
            "cell_type": "code", 
            "source": "from pyspark.sql.types import DoubleType\n\nnumeric_cols=['age', 'bp', 'sg','bgr', 'bu', 'sc', 'sod', 'pot', 'hemo', 'pcv', 'wbcc', 'rbcc']\nfor col in numeric_cols:\n    indexed = indexed.withColumn(col, indexed[col].cast(DoubleType()))", 
            "outputs": [], 
            "metadata": {}
        }, 
        {
            "execution_count": 188, 
            "cell_type": "code", 
            "source": "df_combine =indexed ", 
            "outputs": [], 
            "metadata": {}
        }, 
        {
            "execution_count": 190, 
            "cell_type": "code", 
            "source": "for col in cat_col_list:\n      df_combine = df_combine.drop(col)\n        \n#df_combine.show()    ", 
            "outputs": [], 
            "metadata": {}
        }, 
        {
            "execution_count": 191, 
            "cell_type": "code", 
            "source": "df_combine = df_combine.drop(\"class\")\ndf_combine.columns", 
            "outputs": [
                {
                    "execution_count": 191, 
                    "output_type": "execute_result", 
                    "data": {
                        "text/plain": "['age',\n 'bp',\n 'sg',\n 'bgr',\n 'bu',\n 'sc',\n 'sod',\n 'pot',\n 'hemo',\n 'pcv',\n 'wbcc',\n 'rbcc',\n 'classIndex',\n 'alIndex',\n 'suIndex',\n 'rbcIndex',\n 'pcIndex',\n 'pccIndex',\n 'baIndex',\n 'htnIndex',\n 'dmIndex',\n 'cadIndex',\n 'appetIndex',\n 'peIndex',\n 'aneIndex']"
                    }, 
                    "metadata": {}
                }
            ], 
            "metadata": {}
        }, 
        {
            "execution_count": 192, 
            "cell_type": "code", 
            "source": "df_combine = df_combine.toPandas() ", 
            "outputs": [], 
            "metadata": {}
        }, 
        {
            "execution_count": 193, 
            "cell_type": "code", 
            "source": "df_combine.head()", 
            "outputs": [
                {
                    "execution_count": 193, 
                    "output_type": "execute_result", 
                    "data": {
                        "text/plain": "    age    bp     sg         bgr    bu   sc         sod       pot  hemo   pcv  \\\n0  48.0  80.0  1.020  121.000000  36.0  1.2  137.528754  4.627244  15.4  44.0   \n1   7.0  50.0  1.020  148.036517  18.0  0.8  137.528754  4.627244  11.3  38.0   \n2  62.0  80.0  1.010  423.000000  53.0  1.8  137.528754  4.627244   9.6  31.0   \n3  48.0  70.0  1.005  117.000000  56.0  3.8  111.000000  2.500000  11.2  32.0   \n4  51.0  80.0  1.010  106.000000  26.0  1.4  137.528754  4.627244  11.6  35.0   \n\n     ...     rbcIndex  pcIndex  pccIndex  baIndex  htnIndex  dmIndex  \\\n0    ...          0.0      0.0       0.0      0.0       1.0      1.0   \n1    ...          0.0      0.0       0.0      0.0       0.0      0.0   \n2    ...          0.0      0.0       0.0      0.0       0.0      1.0   \n3    ...          0.0      1.0       1.0      0.0       1.0      0.0   \n4    ...          0.0      0.0       0.0      0.0       0.0      0.0   \n\n   cadIndex  appetIndex  peIndex  aneIndex  \n0       0.0         0.0      0.0       0.0  \n1       0.0         0.0      0.0       0.0  \n2       0.0         1.0      0.0       1.0  \n3       0.0         1.0      1.0       1.0  \n4       0.0         0.0      0.0       0.0  \n\n[5 rows x 25 columns]", 
                        "text/html": "<div>\n<style scoped>\n    .dataframe tbody tr th:only-of-type {\n        vertical-align: middle;\n    }\n\n    .dataframe tbody tr th {\n        vertical-align: top;\n    }\n\n    .dataframe thead th {\n        text-align: right;\n    }\n</style>\n<table border=\"1\" class=\"dataframe\">\n  <thead>\n    <tr style=\"text-align: right;\">\n      <th></th>\n      <th>age</th>\n      <th>bp</th>\n      <th>sg</th>\n      <th>bgr</th>\n      <th>bu</th>\n      <th>sc</th>\n      <th>sod</th>\n      <th>pot</th>\n      <th>hemo</th>\n      <th>pcv</th>\n      <th>...</th>\n      <th>rbcIndex</th>\n      <th>pcIndex</th>\n      <th>pccIndex</th>\n      <th>baIndex</th>\n      <th>htnIndex</th>\n      <th>dmIndex</th>\n      <th>cadIndex</th>\n      <th>appetIndex</th>\n      <th>peIndex</th>\n      <th>aneIndex</th>\n    </tr>\n  </thead>\n  <tbody>\n    <tr>\n      <th>0</th>\n      <td>48.0</td>\n      <td>80.0</td>\n      <td>1.020</td>\n      <td>121.000000</td>\n      <td>36.0</td>\n      <td>1.2</td>\n      <td>137.528754</td>\n      <td>4.627244</td>\n      <td>15.4</td>\n      <td>44.0</td>\n      <td>...</td>\n      <td>0.0</td>\n      <td>0.0</td>\n      <td>0.0</td>\n      <td>0.0</td>\n      <td>1.0</td>\n      <td>1.0</td>\n      <td>0.0</td>\n      <td>0.0</td>\n      <td>0.0</td>\n      <td>0.0</td>\n    </tr>\n    <tr>\n      <th>1</th>\n      <td>7.0</td>\n      <td>50.0</td>\n      <td>1.020</td>\n      <td>148.036517</td>\n      <td>18.0</td>\n      <td>0.8</td>\n      <td>137.528754</td>\n      <td>4.627244</td>\n      <td>11.3</td>\n      <td>38.0</td>\n      <td>...</td>\n      <td>0.0</td>\n      <td>0.0</td>\n      <td>0.0</td>\n      <td>0.0</td>\n      <td>0.0</td>\n      <td>0.0</td>\n      <td>0.0</td>\n      <td>0.0</td>\n      <td>0.0</td>\n      <td>0.0</td>\n    </tr>\n    <tr>\n      <th>2</th>\n      <td>62.0</td>\n      <td>80.0</td>\n      <td>1.010</td>\n      <td>423.000000</td>\n      <td>53.0</td>\n      <td>1.8</td>\n      <td>137.528754</td>\n      <td>4.627244</td>\n      <td>9.6</td>\n      <td>31.0</td>\n      <td>...</td>\n      <td>0.0</td>\n      <td>0.0</td>\n      <td>0.0</td>\n      <td>0.0</td>\n      <td>0.0</td>\n      <td>1.0</td>\n      <td>0.0</td>\n      <td>1.0</td>\n      <td>0.0</td>\n      <td>1.0</td>\n    </tr>\n    <tr>\n      <th>3</th>\n      <td>48.0</td>\n      <td>70.0</td>\n      <td>1.005</td>\n      <td>117.000000</td>\n      <td>56.0</td>\n      <td>3.8</td>\n      <td>111.000000</td>\n      <td>2.500000</td>\n      <td>11.2</td>\n      <td>32.0</td>\n      <td>...</td>\n      <td>0.0</td>\n      <td>1.0</td>\n      <td>1.0</td>\n      <td>0.0</td>\n      <td>1.0</td>\n      <td>0.0</td>\n      <td>0.0</td>\n      <td>1.0</td>\n      <td>1.0</td>\n      <td>1.0</td>\n    </tr>\n    <tr>\n      <th>4</th>\n      <td>51.0</td>\n      <td>80.0</td>\n      <td>1.010</td>\n      <td>106.000000</td>\n      <td>26.0</td>\n      <td>1.4</td>\n      <td>137.528754</td>\n      <td>4.627244</td>\n      <td>11.6</td>\n      <td>35.0</td>\n      <td>...</td>\n      <td>0.0</td>\n      <td>0.0</td>\n      <td>0.0</td>\n      <td>0.0</td>\n      <td>0.0</td>\n      <td>0.0</td>\n      <td>0.0</td>\n      <td>0.0</td>\n      <td>0.0</td>\n      <td>0.0</td>\n    </tr>\n  </tbody>\n</table>\n<p>5 rows \u00d7 25 columns</p>\n</div>"
                    }, 
                    "metadata": {}
                }
            ], 
            "metadata": {}
        }, 
        {
            "execution_count": 194, 
            "cell_type": "code", 
            "source": "len(df_combine)", 
            "outputs": [
                {
                    "execution_count": 194, 
                    "output_type": "execute_result", 
                    "data": {
                        "text/plain": "400"
                    }, 
                    "metadata": {}
                }
            ], 
            "metadata": {}
        }, 
        {
            "execution_count": 195, 
            "cell_type": "code", 
            "source": "df_combine.columns", 
            "outputs": [
                {
                    "execution_count": 195, 
                    "output_type": "execute_result", 
                    "data": {
                        "text/plain": "Index(['age', 'bp', 'sg', 'bgr', 'bu', 'sc', 'sod', 'pot', 'hemo', 'pcv',\n       'wbcc', 'rbcc', 'classIndex', 'alIndex', 'suIndex', 'rbcIndex',\n       'pcIndex', 'pccIndex', 'baIndex', 'htnIndex', 'dmIndex', 'cadIndex',\n       'appetIndex', 'peIndex', 'aneIndex'],\n      dtype='object')"
                    }, 
                    "metadata": {}
                }
            ], 
            "metadata": {}
        }, 
        {
            "execution_count": 196, 
            "cell_type": "code", 
            "source": "#split pandas dataframe into training and testing dataframe\nmsk = np.random.rand(len(df_combine)) < 0.8\n\ndf_train = df_combine[msk]\ndf_test = df_combine[~msk]", 
            "outputs": [], 
            "metadata": {}
        }, 
        {
            "execution_count": 197, 
            "cell_type": "code", 
            "source": "print(len(df_train))\nprint(len(df_test))", 
            "outputs": [
                {
                    "output_type": "stream", 
                    "name": "stdout", 
                    "text": "321\n79\n"
                }
            ], 
            "metadata": {}
        }, 
        {
            "execution_count": 198, 
            "cell_type": "code", 
            "source": "#Spearate features and target class\nlabel = df_combine.pop('classIndex')", 
            "outputs": [], 
            "metadata": {}
        }, 
        {
            "execution_count": 199, 
            "cell_type": "code", 
            "source": "label.head()", 
            "outputs": [
                {
                    "execution_count": 199, 
                    "output_type": "execute_result", 
                    "data": {
                        "text/plain": "0    0.0\n1    0.0\n2    0.0\n3    0.0\n4    0.0\nName: classIndex, dtype: float64"
                    }, 
                    "metadata": {}
                }
            ], 
            "metadata": {}
        }, 
        {
            "execution_count": 200, 
            "cell_type": "code", 
            "source": "#or you can split pandas dataframe into training and testing numpy arays\nfrom sklearn.model_selection import train_test_split\n\n#train, test = train_test_split(df_combine, test_size=0.2)\nx_train,x_test,y_train,y_test = train_test_split(df_combine,label,test_size=0.2)\n", 
            "outputs": [], 
            "metadata": {}
        }, 
        {
            "execution_count": 201, 
            "cell_type": "code", 
            "source": "#Apply Keras Deep Learning Model\n", 
            "outputs": [], 
            "metadata": {}
        }, 
        {
            "execution_count": 202, 
            "cell_type": "code", 
            "source": "import keras\nfrom keras.models import Model\nfrom keras.layers import Input, Dense\nfrom keras.layers import Dense, Dropout, Flatten\nfrom keras.layers import Conv2D, MaxPooling2D\nfrom keras.datasets import mnist\nfrom keras.models import Sequential, load_model\nfrom keras.optimizers import RMSprop\nfrom keras.layers import LeakyReLU\n\nfrom keras import backend as K\nimport numpy as np\n\n", 
            "outputs": [], 
            "metadata": {}
        }, 
        {
            "execution_count": 203, 
            "cell_type": "code", 
            "source": "batch_size = 128\nnum_classes = 2\nepochs = 100\n\n# convert class vectors to binary class matrices\n#y_train = keras.utils.to_categorical(y_train, num_classes)\n#y_test = keras.utils.to_categorical(y_test, num_classes)", 
            "outputs": [], 
            "metadata": {}
        }, 
        {
            "execution_count": 204, 
            "cell_type": "code", 
            "source": "epochs = 200\nbatch_size =81", 
            "outputs": [], 
            "metadata": {}
        }, 
        {
            "execution_count": 205, 
            "cell_type": "code", 
            "source": "model = Sequential()\nmodel.add(Dense(512, input_shape=(24,)))\nmodel.add(Dense(16, activation = \"relu\"))\nmodel.add(Dense(1, activation='sigmoid'))\n\n\n\nmodel.compile(loss='binary_crossentropy',\n        optimizer='adam',\n        metrics=['accuracy'])\n\nmodel.fit(x_train, y_train,\n        batch_size=batch_size,\n        epochs=epochs,\n        verbose=1,\n        validation_data=(x_test, y_test))\n        \nscore = model.evaluate(x_test, y_test, verbose=0)\n\nprint('\\n')\nprint('Accuracy:',score[1])", 
            "outputs": [
                {
                    "output_type": "stream", 
                    "name": "stdout", 
                    "text": "Train on 320 samples, validate on 80 samples\nEpoch 1/200\n320/320 [==============================] - 2s 7ms/step - loss: 5.9435 - acc: 0.6312 - val_loss: 6.4472 - val_acc: 0.6000\nEpoch 2/200\n320/320 [==============================] - 0s 46us/step - loss: 5.9435 - acc: 0.6313 - val_loss: 6.4472 - val_acc: 0.6000\nEpoch 3/200\n320/320 [==============================] - 0s 39us/step - loss: 5.9435 - acc: 0.6313 - val_loss: 6.4472 - val_acc: 0.6000\nEpoch 4/200\n320/320 [==============================] - 0s 40us/step - loss: 5.9435 - acc: 0.6312 - val_loss: 6.4472 - val_acc: 0.6000\nEpoch 5/200\n320/320 [==============================] - 0s 39us/step - loss: 5.9435 - acc: 0.6312 - val_loss: 6.4472 - val_acc: 0.6000\nEpoch 6/200\n320/320 [==============================] - 0s 42us/step - loss: 5.9435 - acc: 0.6313 - val_loss: 6.4472 - val_acc: 0.6000\nEpoch 7/200\n320/320 [==============================] - 0s 48us/step - loss: 5.9435 - acc: 0.6313 - val_loss: 6.4472 - val_acc: 0.6000\nEpoch 8/200\n320/320 [==============================] - 0s 40us/step - loss: 5.9435 - acc: 0.6313 - val_loss: 6.4472 - val_acc: 0.6000\nEpoch 9/200\n320/320 [==============================] - 0s 40us/step - loss: 5.9435 - acc: 0.6313 - val_loss: 6.4472 - val_acc: 0.6000\nEpoch 10/200\n320/320 [==============================] - 0s 43us/step - loss: 5.9435 - acc: 0.6312 - val_loss: 6.4472 - val_acc: 0.6000\nEpoch 11/200\n320/320 [==============================] - 0s 42us/step - loss: 5.9435 - acc: 0.6313 - val_loss: 6.4472 - val_acc: 0.6000\nEpoch 12/200\n320/320 [==============================] - 0s 48us/step - loss: 5.9435 - acc: 0.6312 - val_loss: 6.4472 - val_acc: 0.6000\nEpoch 13/200\n320/320 [==============================] - 0s 47us/step - loss: 5.9435 - acc: 0.6313 - val_loss: 6.4472 - val_acc: 0.6000\nEpoch 14/200\n320/320 [==============================] - 0s 46us/step - loss: 5.9435 - acc: 0.6312 - val_loss: 6.4472 - val_acc: 0.6000\nEpoch 15/200\n320/320 [==============================] - 0s 48us/step - loss: 5.9435 - acc: 0.6313 - val_loss: 6.4472 - val_acc: 0.6000\nEpoch 16/200\n320/320 [==============================] - 0s 94us/step - loss: 5.9435 - acc: 0.6312 - val_loss: 6.4472 - val_acc: 0.6000\nEpoch 17/200\n320/320 [==============================] - 0s 39us/step - loss: 5.9435 - acc: 0.6313 - val_loss: 6.4472 - val_acc: 0.6000\nEpoch 18/200\n320/320 [==============================] - 0s 46us/step - loss: 5.9435 - acc: 0.6312 - val_loss: 6.4472 - val_acc: 0.6000\nEpoch 19/200\n320/320 [==============================] - 0s 42us/step - loss: 5.9435 - acc: 0.6312 - val_loss: 6.4472 - val_acc: 0.6000\nEpoch 20/200\n320/320 [==============================] - 0s 40us/step - loss: 5.9435 - acc: 0.6313 - val_loss: 6.4472 - val_acc: 0.6000\nEpoch 21/200\n320/320 [==============================] - 0s 40us/step - loss: 5.9435 - acc: 0.6313 - val_loss: 6.4472 - val_acc: 0.6000\nEpoch 22/200\n320/320 [==============================] - 0s 43us/step - loss: 5.9435 - acc: 0.6312 - val_loss: 6.4472 - val_acc: 0.6000\nEpoch 23/200\n320/320 [==============================] - 0s 39us/step - loss: 5.9435 - acc: 0.6313 - val_loss: 6.4472 - val_acc: 0.6000\nEpoch 24/200\n320/320 [==============================] - 0s 48us/step - loss: 5.9435 - acc: 0.6312 - val_loss: 6.4472 - val_acc: 0.6000\nEpoch 25/200\n320/320 [==============================] - 0s 139us/step - loss: 5.9435 - acc: 0.6313 - val_loss: 6.4472 - val_acc: 0.6000\nEpoch 26/200\n320/320 [==============================] - 0s 47us/step - loss: 5.9435 - acc: 0.6313 - val_loss: 6.4472 - val_acc: 0.6000\nEpoch 27/200\n320/320 [==============================] - 0s 47us/step - loss: 5.9435 - acc: 0.6312 - val_loss: 6.4472 - val_acc: 0.6000\nEpoch 28/200\n320/320 [==============================] - 0s 43us/step - loss: 5.9435 - acc: 0.6312 - val_loss: 6.4472 - val_acc: 0.6000\nEpoch 29/200\n320/320 [==============================] - 0s 65us/step - loss: 5.9435 - acc: 0.6312 - val_loss: 6.4472 - val_acc: 0.6000\nEpoch 30/200\n320/320 [==============================] - 0s 41us/step - loss: 5.9435 - acc: 0.6313 - val_loss: 6.4472 - val_acc: 0.6000\nEpoch 31/200\n320/320 [==============================] - 0s 40us/step - loss: 5.9435 - acc: 0.6312 - val_loss: 6.4472 - val_acc: 0.6000\nEpoch 32/200\n320/320 [==============================] - 0s 51us/step - loss: 5.9435 - acc: 0.6313 - val_loss: 6.4472 - val_acc: 0.6000\nEpoch 33/200\n320/320 [==============================] - 0s 43us/step - loss: 5.9435 - acc: 0.6313 - val_loss: 6.4472 - val_acc: 0.6000\nEpoch 34/200\n320/320 [==============================] - 0s 42us/step - loss: 5.9435 - acc: 0.6312 - val_loss: 6.4472 - val_acc: 0.6000\nEpoch 35/200\n320/320 [==============================] - 0s 45us/step - loss: 5.9435 - acc: 0.6312 - val_loss: 6.4472 - val_acc: 0.6000\nEpoch 36/200\n320/320 [==============================] - 0s 39us/step - loss: 5.9435 - acc: 0.6312 - val_loss: 6.4472 - val_acc: 0.6000\nEpoch 37/200\n320/320 [==============================] - 0s 41us/step - loss: 5.9435 - acc: 0.6313 - val_loss: 6.4472 - val_acc: 0.6000\nEpoch 38/200\n320/320 [==============================] - 0s 40us/step - loss: 5.9435 - acc: 0.6312 - val_loss: 6.4472 - val_acc: 0.6000\nEpoch 39/200\n320/320 [==============================] - 0s 41us/step - loss: 5.9435 - acc: 0.6312 - val_loss: 6.4472 - val_acc: 0.6000\nEpoch 40/200\n320/320 [==============================] - 0s 43us/step - loss: 5.9435 - acc: 0.6312 - val_loss: 6.4472 - val_acc: 0.6000\nEpoch 41/200\n320/320 [==============================] - 0s 43us/step - loss: 5.9435 - acc: 0.6312 - val_loss: 6.4472 - val_acc: 0.6000\nEpoch 42/200\n320/320 [==============================] - 0s 40us/step - loss: 5.9435 - acc: 0.6312 - val_loss: 6.4472 - val_acc: 0.6000\nEpoch 43/200\n320/320 [==============================] - 0s 42us/step - loss: 5.9435 - acc: 0.6312 - val_loss: 6.4472 - val_acc: 0.6000\nEpoch 44/200\n320/320 [==============================] - 0s 44us/step - loss: 5.9435 - acc: 0.6312 - val_loss: 6.4472 - val_acc: 0.6000\nEpoch 45/200\n320/320 [==============================] - 0s 46us/step - loss: 5.9435 - acc: 0.6312 - val_loss: 6.4472 - val_acc: 0.6000\nEpoch 46/200\n320/320 [==============================] - 0s 42us/step - loss: 5.9435 - acc: 0.6312 - val_loss: 6.4472 - val_acc: 0.6000\nEpoch 47/200\n320/320 [==============================] - 0s 48us/step - loss: 5.9435 - acc: 0.6313 - val_loss: 6.4472 - val_acc: 0.6000\nEpoch 48/200\n320/320 [==============================] - 0s 44us/step - loss: 5.9435 - acc: 0.6313 - val_loss: 6.4472 - val_acc: 0.6000\nEpoch 49/200\n320/320 [==============================] - 0s 41us/step - loss: 5.9435 - acc: 0.6312 - val_loss: 6.4472 - val_acc: 0.6000\nEpoch 50/200\n320/320 [==============================] - 0s 40us/step - loss: 5.9435 - acc: 0.6312 - val_loss: 6.4472 - val_acc: 0.6000\nEpoch 51/200\n320/320 [==============================] - 0s 40us/step - loss: 5.9435 - acc: 0.6313 - val_loss: 6.4472 - val_acc: 0.6000\nEpoch 52/200\n320/320 [==============================] - 0s 41us/step - loss: 5.9435 - acc: 0.6313 - val_loss: 6.4472 - val_acc: 0.6000\nEpoch 53/200\n320/320 [==============================] - 0s 43us/step - loss: 5.9435 - acc: 0.6313 - val_loss: 6.4472 - val_acc: 0.6000\nEpoch 54/200\n320/320 [==============================] - 0s 39us/step - loss: 5.9435 - acc: 0.6312 - val_loss: 6.4472 - val_acc: 0.6000\nEpoch 55/200\n320/320 [==============================] - 0s 41us/step - loss: 5.9435 - acc: 0.6313 - val_loss: 6.4472 - val_acc: 0.6000\nEpoch 56/200\n320/320 [==============================] - 0s 44us/step - loss: 5.9435 - acc: 0.6313 - val_loss: 6.4472 - val_acc: 0.6000\nEpoch 57/200\n320/320 [==============================] - 0s 44us/step - loss: 5.9435 - acc: 0.6312 - val_loss: 6.4472 - val_acc: 0.6000\nEpoch 58/200\n320/320 [==============================] - 0s 40us/step - loss: 5.9435 - acc: 0.6313 - val_loss: 6.4472 - val_acc: 0.6000\nEpoch 59/200\n320/320 [==============================] - 0s 40us/step - loss: 5.9435 - acc: 0.6312 - val_loss: 6.4472 - val_acc: 0.6000\nEpoch 60/200\n320/320 [==============================] - 0s 40us/step - loss: 5.9435 - acc: 0.6313 - val_loss: 6.4472 - val_acc: 0.6000\nEpoch 61/200\n320/320 [==============================] - 0s 45us/step - loss: 5.9435 - acc: 0.6313 - val_loss: 6.4472 - val_acc: 0.6000\nEpoch 62/200\n320/320 [==============================] - 0s 45us/step - loss: 5.9435 - acc: 0.6312 - val_loss: 6.4472 - val_acc: 0.6000\nEpoch 63/200\n320/320 [==============================] - 0s 44us/step - loss: 5.9435 - acc: 0.6312 - val_loss: 6.4472 - val_acc: 0.6000\nEpoch 64/200\n320/320 [==============================] - 0s 45us/step - loss: 5.9435 - acc: 0.6313 - val_loss: 6.4472 - val_acc: 0.6000\nEpoch 65/200\n320/320 [==============================] - 0s 42us/step - loss: 5.9435 - acc: 0.6313 - val_loss: 6.4472 - val_acc: 0.6000\nEpoch 66/200\n320/320 [==============================] - 0s 41us/step - loss: 5.9435 - acc: 0.6313 - val_loss: 6.4472 - val_acc: 0.6000\nEpoch 67/200\n320/320 [==============================] - 0s 40us/step - loss: 5.9435 - acc: 0.6312 - val_loss: 6.4472 - val_acc: 0.6000\nEpoch 68/200\n320/320 [==============================] - 0s 39us/step - loss: 5.9435 - acc: 0.6313 - val_loss: 6.4472 - val_acc: 0.6000\nEpoch 69/200\n320/320 [==============================] - 0s 40us/step - loss: 5.9435 - acc: 0.6313 - val_loss: 6.4472 - val_acc: 0.6000\nEpoch 70/200\n320/320 [==============================] - 0s 40us/step - loss: 5.9435 - acc: 0.6312 - val_loss: 6.4472 - val_acc: 0.6000\nEpoch 71/200\n320/320 [==============================] - 0s 42us/step - loss: 5.9435 - acc: 0.6313 - val_loss: 6.4472 - val_acc: 0.6000\nEpoch 72/200\n320/320 [==============================] - 0s 45us/step - loss: 5.9435 - acc: 0.6312 - val_loss: 6.4472 - val_acc: 0.6000\nEpoch 73/200\n320/320 [==============================] - 0s 40us/step - loss: 5.9435 - acc: 0.6313 - val_loss: 6.4472 - val_acc: 0.6000\nEpoch 74/200\n320/320 [==============================] - 0s 42us/step - loss: 5.9435 - acc: 0.6313 - val_loss: 6.4472 - val_acc: 0.6000\nEpoch 75/200\n320/320 [==============================] - 0s 41us/step - loss: 5.9435 - acc: 0.6313 - val_loss: 6.4472 - val_acc: 0.6000\nEpoch 76/200\n320/320 [==============================] - 0s 40us/step - loss: 5.9435 - acc: 0.6313 - val_loss: 6.4472 - val_acc: 0.6000\nEpoch 77/200\n320/320 [==============================] - 0s 39us/step - loss: 5.9435 - acc: 0.6312 - val_loss: 6.4472 - val_acc: 0.6000\nEpoch 78/200\n320/320 [==============================] - 0s 39us/step - loss: 5.9435 - acc: 0.6313 - val_loss: 6.4472 - val_acc: 0.6000\nEpoch 79/200\n320/320 [==============================] - 0s 41us/step - loss: 5.9435 - acc: 0.6312 - val_loss: 6.4472 - val_acc: 0.6000\nEpoch 80/200\n320/320 [==============================] - 0s 39us/step - loss: 5.9435 - acc: 0.6313 - val_loss: 6.4472 - val_acc: 0.6000\nEpoch 81/200\n320/320 [==============================] - 0s 45us/step - loss: 5.9435 - acc: 0.6312 - val_loss: 6.4472 - val_acc: 0.6000\nEpoch 82/200\n320/320 [==============================] - 0s 40us/step - loss: 5.9435 - acc: 0.6313 - val_loss: 6.4472 - val_acc: 0.6000\nEpoch 83/200\n320/320 [==============================] - 0s 42us/step - loss: 5.9435 - acc: 0.6312 - val_loss: 6.4472 - val_acc: 0.6000\nEpoch 84/200\n320/320 [==============================] - 0s 38us/step - loss: 5.9435 - acc: 0.6312 - val_loss: 6.4472 - val_acc: 0.6000\nEpoch 85/200\n320/320 [==============================] - 0s 40us/step - loss: 5.9435 - acc: 0.6312 - val_loss: 6.4472 - val_acc: 0.6000\nEpoch 86/200\n320/320 [==============================] - 0s 40us/step - loss: 5.9435 - acc: 0.6312 - val_loss: 6.4472 - val_acc: 0.6000\nEpoch 87/200\n320/320 [==============================] - 0s 47us/step - loss: 5.9435 - acc: 0.6312 - val_loss: 6.4472 - val_acc: 0.6000\nEpoch 88/200\n320/320 [==============================] - 0s 40us/step - loss: 5.9435 - acc: 0.6312 - val_loss: 6.4472 - val_acc: 0.6000\nEpoch 89/200\n320/320 [==============================] - 0s 38us/step - loss: 5.9435 - acc: 0.6312 - val_loss: 6.4472 - val_acc: 0.6000\nEpoch 90/200\n320/320 [==============================] - 0s 39us/step - loss: 5.9435 - acc: 0.6313 - val_loss: 6.4472 - val_acc: 0.6000\nEpoch 91/200\n320/320 [==============================] - 0s 41us/step - loss: 5.9435 - acc: 0.6312 - val_loss: 6.4472 - val_acc: 0.6000\nEpoch 92/200\n320/320 [==============================] - 0s 44us/step - loss: 5.9435 - acc: 0.6312 - val_loss: 6.4472 - val_acc: 0.6000\nEpoch 93/200\n320/320 [==============================] - 0s 45us/step - loss: 5.9435 - acc: 0.6312 - val_loss: 6.4472 - val_acc: 0.6000\nEpoch 94/200\n320/320 [==============================] - 0s 44us/step - loss: 5.9435 - acc: 0.6312 - val_loss: 6.4472 - val_acc: 0.6000\nEpoch 95/200\n320/320 [==============================] - 0s 46us/step - loss: 5.9435 - acc: 0.6312 - val_loss: 6.4472 - val_acc: 0.6000\nEpoch 96/200\n320/320 [==============================] - 0s 41us/step - loss: 5.9435 - acc: 0.6312 - val_loss: 6.4472 - val_acc: 0.6000\nEpoch 97/200\n320/320 [==============================] - 0s 42us/step - loss: 5.9435 - acc: 0.6312 - val_loss: 6.4472 - val_acc: 0.6000\nEpoch 98/200\n320/320 [==============================] - 0s 39us/step - loss: 5.9435 - acc: 0.6312 - val_loss: 6.4472 - val_acc: 0.6000\nEpoch 99/200\n320/320 [==============================] - 0s 39us/step - loss: 5.9435 - acc: 0.6313 - val_loss: 6.4472 - val_acc: 0.6000\nEpoch 100/200\n320/320 [==============================] - 0s 40us/step - loss: 5.9435 - acc: 0.6313 - val_loss: 6.4472 - val_acc: 0.6000\nEpoch 101/200\n320/320 [==============================] - 0s 40us/step - loss: 5.9435 - acc: 0.6313 - val_loss: 6.4472 - val_acc: 0.6000\nEpoch 102/200\n320/320 [==============================] - 0s 38us/step - loss: 5.9435 - acc: 0.6313 - val_loss: 6.4472 - val_acc: 0.6000\nEpoch 103/200\n320/320 [==============================] - 0s 40us/step - loss: 5.9435 - acc: 0.6313 - val_loss: 6.4472 - val_acc: 0.6000\nEpoch 104/200\n320/320 [==============================] - 0s 39us/step - loss: 5.9435 - acc: 0.6312 - val_loss: 6.4472 - val_acc: 0.6000\nEpoch 105/200\n320/320 [==============================] - 0s 39us/step - loss: 5.9435 - acc: 0.6312 - val_loss: 6.4472 - val_acc: 0.6000\nEpoch 106/200\n320/320 [==============================] - 0s 39us/step - loss: 5.9435 - acc: 0.6313 - val_loss: 6.4472 - val_acc: 0.6000\nEpoch 107/200\n320/320 [==============================] - 0s 39us/step - loss: 5.9435 - acc: 0.6312 - val_loss: 6.4472 - val_acc: 0.6000\nEpoch 108/200\n320/320 [==============================] - 0s 44us/step - loss: 5.9435 - acc: 0.6313 - val_loss: 6.4472 - val_acc: 0.6000\nEpoch 109/200\n320/320 [==============================] - 0s 42us/step - loss: 5.9435 - acc: 0.6313 - val_loss: 6.4472 - val_acc: 0.6000\nEpoch 110/200\n320/320 [==============================] - 0s 45us/step - loss: 5.9435 - acc: 0.6312 - val_loss: 6.4472 - val_acc: 0.6000\nEpoch 111/200\n320/320 [==============================] - 0s 40us/step - loss: 5.9435 - acc: 0.6312 - val_loss: 6.4472 - val_acc: 0.6000\nEpoch 112/200\n320/320 [==============================] - 0s 45us/step - loss: 5.9435 - acc: 0.6313 - val_loss: 6.4472 - val_acc: 0.6000\nEpoch 113/200\n320/320 [==============================] - 0s 42us/step - loss: 5.9435 - acc: 0.6313 - val_loss: 6.4472 - val_acc: 0.6000\nEpoch 114/200\n320/320 [==============================] - 0s 43us/step - loss: 5.9435 - acc: 0.6312 - val_loss: 6.4472 - val_acc: 0.6000\nEpoch 115/200\n320/320 [==============================] - 0s 42us/step - loss: 5.9435 - acc: 0.6313 - val_loss: 6.4472 - val_acc: 0.6000\nEpoch 116/200\n320/320 [==============================] - 0s 42us/step - loss: 5.9435 - acc: 0.6313 - val_loss: 6.4472 - val_acc: 0.6000\nEpoch 117/200\n320/320 [==============================] - 0s 44us/step - loss: 5.9435 - acc: 0.6312 - val_loss: 6.4472 - val_acc: 0.6000\nEpoch 118/200\n320/320 [==============================] - 0s 42us/step - loss: 5.9435 - acc: 0.6313 - val_loss: 6.4472 - val_acc: 0.6000\nEpoch 119/200\n320/320 [==============================] - 0s 41us/step - loss: 5.9435 - acc: 0.6312 - val_loss: 6.4472 - val_acc: 0.6000\nEpoch 120/200\n320/320 [==============================] - 0s 41us/step - loss: 5.9435 - acc: 0.6312 - val_loss: 6.4472 - val_acc: 0.6000\nEpoch 121/200\n320/320 [==============================] - 0s 43us/step - loss: 5.9435 - acc: 0.6313 - val_loss: 6.4472 - val_acc: 0.6000\nEpoch 122/200\n320/320 [==============================] - 0s 40us/step - loss: 5.9435 - acc: 0.6312 - val_loss: 6.4472 - val_acc: 0.6000\nEpoch 123/200\n320/320 [==============================] - 0s 41us/step - loss: 5.9435 - acc: 0.6313 - val_loss: 6.4472 - val_acc: 0.6000\nEpoch 124/200\n320/320 [==============================] - 0s 40us/step - loss: 5.9435 - acc: 0.6313 - val_loss: 6.4472 - val_acc: 0.6000\nEpoch 125/200\n320/320 [==============================] - 0s 40us/step - loss: 5.9435 - acc: 0.6313 - val_loss: 6.4472 - val_acc: 0.6000\nEpoch 126/200\n320/320 [==============================] - 0s 40us/step - loss: 5.9435 - acc: 0.6312 - val_loss: 6.4472 - val_acc: 0.6000\nEpoch 127/200\n320/320 [==============================] - 0s 44us/step - loss: 5.9435 - acc: 0.6312 - val_loss: 6.4472 - val_acc: 0.6000\nEpoch 128/200\n320/320 [==============================] - 0s 42us/step - loss: 5.9435 - acc: 0.6312 - val_loss: 6.4472 - val_acc: 0.6000\nEpoch 129/200\n320/320 [==============================] - 0s 42us/step - loss: 5.9435 - acc: 0.6313 - val_loss: 6.4472 - val_acc: 0.6000\nEpoch 130/200\n320/320 [==============================] - 0s 42us/step - loss: 5.9435 - acc: 0.6313 - val_loss: 6.4472 - val_acc: 0.6000\nEpoch 131/200\n320/320 [==============================] - 0s 44us/step - loss: 5.9435 - acc: 0.6313 - val_loss: 6.4472 - val_acc: 0.6000\nEpoch 132/200\n320/320 [==============================] - 0s 41us/step - loss: 5.9435 - acc: 0.6313 - val_loss: 6.4472 - val_acc: 0.6000\nEpoch 133/200\n320/320 [==============================] - 0s 41us/step - loss: 5.9435 - acc: 0.6312 - val_loss: 6.4472 - val_acc: 0.6000\nEpoch 134/200\n320/320 [==============================] - 0s 45us/step - loss: 5.9435 - acc: 0.6312 - val_loss: 6.4472 - val_acc: 0.6000\nEpoch 135/200\n320/320 [==============================] - 0s 41us/step - loss: 5.9435 - acc: 0.6312 - val_loss: 6.4472 - val_acc: 0.6000\nEpoch 136/200\n320/320 [==============================] - 0s 42us/step - loss: 5.9435 - acc: 0.6312 - val_loss: 6.4472 - val_acc: 0.6000\nEpoch 137/200\n320/320 [==============================] - 0s 42us/step - loss: 5.9435 - acc: 0.6312 - val_loss: 6.4472 - val_acc: 0.6000\nEpoch 138/200\n320/320 [==============================] - 0s 44us/step - loss: 5.9435 - acc: 0.6312 - val_loss: 6.4472 - val_acc: 0.6000\nEpoch 139/200\n320/320 [==============================] - 0s 41us/step - loss: 5.9435 - acc: 0.6313 - val_loss: 6.4472 - val_acc: 0.6000\nEpoch 140/200\n320/320 [==============================] - 0s 44us/step - loss: 5.9435 - acc: 0.6313 - val_loss: 6.4472 - val_acc: 0.6000\nEpoch 141/200\n320/320 [==============================] - 0s 39us/step - loss: 5.9435 - acc: 0.6312 - val_loss: 6.4472 - val_acc: 0.6000\nEpoch 142/200\n320/320 [==============================] - 0s 40us/step - loss: 5.9435 - acc: 0.6313 - val_loss: 6.4472 - val_acc: 0.6000\nEpoch 143/200\n320/320 [==============================] - 0s 42us/step - loss: 5.9435 - acc: 0.6312 - val_loss: 6.4472 - val_acc: 0.6000\nEpoch 144/200\n320/320 [==============================] - 0s 41us/step - loss: 5.9435 - acc: 0.6313 - val_loss: 6.4472 - val_acc: 0.6000\nEpoch 145/200\n320/320 [==============================] - 0s 40us/step - loss: 5.9435 - acc: 0.6313 - val_loss: 6.4472 - val_acc: 0.6000\nEpoch 146/200\n320/320 [==============================] - 0s 43us/step - loss: 5.9435 - acc: 0.6312 - val_loss: 6.4472 - val_acc: 0.6000\nEpoch 147/200\n320/320 [==============================] - 0s 40us/step - loss: 5.9435 - acc: 0.6313 - val_loss: 6.4472 - val_acc: 0.6000\nEpoch 148/200\n320/320 [==============================] - 0s 42us/step - loss: 5.9435 - acc: 0.6313 - val_loss: 6.4472 - val_acc: 0.6000\nEpoch 149/200\n320/320 [==============================] - 0s 46us/step - loss: 5.9435 - acc: 0.6312 - val_loss: 6.4472 - val_acc: 0.6000\nEpoch 150/200\n320/320 [==============================] - 0s 41us/step - loss: 5.9435 - acc: 0.6313 - val_loss: 6.4472 - val_acc: 0.6000\nEpoch 151/200\n320/320 [==============================] - 0s 41us/step - loss: 5.9435 - acc: 0.6313 - val_loss: 6.4472 - val_acc: 0.6000\nEpoch 152/200\n320/320 [==============================] - 0s 42us/step - loss: 5.9435 - acc: 0.6312 - val_loss: 6.4472 - val_acc: 0.6000\nEpoch 153/200\n320/320 [==============================] - 0s 43us/step - loss: 5.9435 - acc: 0.6312 - val_loss: 6.4472 - val_acc: 0.6000\nEpoch 154/200\n320/320 [==============================] - 0s 43us/step - loss: 5.9435 - acc: 0.6312 - val_loss: 6.4472 - val_acc: 0.6000\nEpoch 155/200\n320/320 [==============================] - 0s 39us/step - loss: 5.9435 - acc: 0.6312 - val_loss: 6.4472 - val_acc: 0.6000\nEpoch 156/200\n320/320 [==============================] - 0s 54us/step - loss: 5.9435 - acc: 0.6313 - val_loss: 6.4472 - val_acc: 0.6000\nEpoch 157/200\n320/320 [==============================] - 0s 41us/step - loss: 5.9435 - acc: 0.6313 - val_loss: 6.4472 - val_acc: 0.6000\nEpoch 158/200\n320/320 [==============================] - 0s 55us/step - loss: 5.9435 - acc: 0.6312 - val_loss: 6.4472 - val_acc: 0.6000\nEpoch 159/200\n320/320 [==============================] - 0s 41us/step - loss: 5.9435 - acc: 0.6313 - val_loss: 6.4472 - val_acc: 0.6000\nEpoch 160/200\n320/320 [==============================] - 0s 41us/step - loss: 5.9435 - acc: 0.6313 - val_loss: 6.4472 - val_acc: 0.6000\nEpoch 161/200\n320/320 [==============================] - 0s 40us/step - loss: 5.9435 - acc: 0.6312 - val_loss: 6.4472 - val_acc: 0.6000\nEpoch 162/200\n320/320 [==============================] - 0s 40us/step - loss: 5.9435 - acc: 0.6312 - val_loss: 6.4472 - val_acc: 0.6000\nEpoch 163/200\n320/320 [==============================] - 0s 39us/step - loss: 5.9435 - acc: 0.6313 - val_loss: 6.4472 - val_acc: 0.6000\nEpoch 164/200\n320/320 [==============================] - 0s 40us/step - loss: 5.9435 - acc: 0.6312 - val_loss: 6.4472 - val_acc: 0.6000\nEpoch 165/200\n320/320 [==============================] - 0s 40us/step - loss: 5.9435 - acc: 0.6312 - val_loss: 6.4472 - val_acc: 0.6000\nEpoch 166/200\n320/320 [==============================] - 0s 43us/step - loss: 5.9435 - acc: 0.6312 - val_loss: 6.4472 - val_acc: 0.6000\nEpoch 167/200\n320/320 [==============================] - 0s 38us/step - loss: 5.9435 - acc: 0.6312 - val_loss: 6.4472 - val_acc: 0.6000\nEpoch 168/200\n320/320 [==============================] - 0s 43us/step - loss: 5.9435 - acc: 0.6313 - val_loss: 6.4472 - val_acc: 0.6000\nEpoch 169/200\n320/320 [==============================] - 0s 41us/step - loss: 5.9435 - acc: 0.6312 - val_loss: 6.4472 - val_acc: 0.6000\nEpoch 170/200\n320/320 [==============================] - 0s 43us/step - loss: 5.9435 - acc: 0.6312 - val_loss: 6.4472 - val_acc: 0.6000\nEpoch 171/200\n320/320 [==============================] - 0s 47us/step - loss: 5.9435 - acc: 0.6313 - val_loss: 6.4472 - val_acc: 0.6000\nEpoch 172/200\n320/320 [==============================] - 0s 43us/step - loss: 5.9435 - acc: 0.6313 - val_loss: 6.4472 - val_acc: 0.6000\nEpoch 173/200\n320/320 [==============================] - 0s 47us/step - loss: 5.9435 - acc: 0.6312 - val_loss: 6.4472 - val_acc: 0.6000\nEpoch 174/200\n320/320 [==============================] - 0s 40us/step - loss: 5.9435 - acc: 0.6312 - val_loss: 6.4472 - val_acc: 0.6000\nEpoch 175/200\n320/320 [==============================] - 0s 41us/step - loss: 5.9435 - acc: 0.6312 - val_loss: 6.4472 - val_acc: 0.6000\nEpoch 176/200\n320/320 [==============================] - 0s 39us/step - loss: 5.9435 - acc: 0.6312 - val_loss: 6.4472 - val_acc: 0.6000\nEpoch 177/200\n320/320 [==============================] - 0s 48us/step - loss: 5.9435 - acc: 0.6313 - val_loss: 6.4472 - val_acc: 0.6000\nEpoch 178/200\n320/320 [==============================] - 0s 41us/step - loss: 5.9435 - acc: 0.6312 - val_loss: 6.4472 - val_acc: 0.6000\nEpoch 179/200\n320/320 [==============================] - 0s 41us/step - loss: 5.9435 - acc: 0.6313 - val_loss: 6.4472 - val_acc: 0.6000\nEpoch 180/200\n320/320 [==============================] - 0s 40us/step - loss: 5.9435 - acc: 0.6313 - val_loss: 6.4472 - val_acc: 0.6000\nEpoch 181/200\n320/320 [==============================] - 0s 41us/step - loss: 5.9435 - acc: 0.6312 - val_loss: 6.4472 - val_acc: 0.6000\nEpoch 182/200\n320/320 [==============================] - 0s 46us/step - loss: 5.9435 - acc: 0.6312 - val_loss: 6.4472 - val_acc: 0.6000\nEpoch 183/200\n320/320 [==============================] - 0s 47us/step - loss: 5.9435 - acc: 0.6312 - val_loss: 6.4472 - val_acc: 0.6000\nEpoch 184/200\n320/320 [==============================] - 0s 40us/step - loss: 5.9435 - acc: 0.6313 - val_loss: 6.4472 - val_acc: 0.6000\nEpoch 185/200\n320/320 [==============================] - 0s 40us/step - loss: 5.9435 - acc: 0.6312 - val_loss: 6.4472 - val_acc: 0.6000\nEpoch 186/200\n320/320 [==============================] - 0s 42us/step - loss: 5.9435 - acc: 0.6312 - val_loss: 6.4472 - val_acc: 0.6000\nEpoch 187/200\n320/320 [==============================] - 0s 48us/step - loss: 5.9435 - acc: 0.6312 - val_loss: 6.4472 - val_acc: 0.6000\nEpoch 188/200\n320/320 [==============================] - 0s 42us/step - loss: 5.9435 - acc: 0.6313 - val_loss: 6.4472 - val_acc: 0.6000\nEpoch 189/200\n320/320 [==============================] - 0s 40us/step - loss: 5.9435 - acc: 0.6313 - val_loss: 6.4472 - val_acc: 0.6000\nEpoch 190/200\n320/320 [==============================] - 0s 42us/step - loss: 5.9435 - acc: 0.6312 - val_loss: 6.4472 - val_acc: 0.6000\nEpoch 191/200\n320/320 [==============================] - 0s 39us/step - loss: 5.9435 - acc: 0.6313 - val_loss: 6.4472 - val_acc: 0.6000\nEpoch 192/200\n320/320 [==============================] - 0s 40us/step - loss: 5.9435 - acc: 0.6312 - val_loss: 6.4472 - val_acc: 0.6000\nEpoch 193/200\n320/320 [==============================] - 0s 41us/step - loss: 5.9435 - acc: 0.6313 - val_loss: 6.4472 - val_acc: 0.6000\nEpoch 194/200\n320/320 [==============================] - 0s 41us/step - loss: 5.9435 - acc: 0.6313 - val_loss: 6.4472 - val_acc: 0.6000\nEpoch 195/200\n320/320 [==============================] - 0s 40us/step - loss: 5.9435 - acc: 0.6313 - val_loss: 6.4472 - val_acc: 0.6000\nEpoch 196/200\n320/320 [==============================] - 0s 40us/step - loss: 5.9435 - acc: 0.6313 - val_loss: 6.4472 - val_acc: 0.6000\nEpoch 197/200\n320/320 [==============================] - 0s 42us/step - loss: 5.9435 - acc: 0.6313 - val_loss: 6.4472 - val_acc: 0.6000\nEpoch 198/200\n320/320 [==============================] - 0s 46us/step - loss: 5.9435 - acc: 0.6313 - val_loss: 6.4472 - val_acc: 0.6000\nEpoch 199/200\n320/320 [==============================] - 0s 46us/step - loss: 5.9435 - acc: 0.6313 - val_loss: 6.4472 - val_acc: 0.6000\nEpoch 200/200\n320/320 [==============================] - 0s 52us/step - loss: 5.9435 - acc: 0.6313 - val_loss: 6.4472 - val_acc: 0.6000\n\n\nAccuracy: 0.6\n"
                }
            ], 
            "metadata": {}
        }, 
        {
            "execution_count": null, 
            "cell_type": "code", 
            "source": "", 
            "outputs": [], 
            "metadata": {}
        }, 
        {
            "execution_count": null, 
            "cell_type": "code", 
            "source": "", 
            "outputs": [], 
            "metadata": {}
        }, 
        {
            "execution_count": null, 
            "cell_type": "code", 
            "source": "", 
            "outputs": [], 
            "metadata": {}
        }, 
        {
            "execution_count": null, 
            "cell_type": "code", 
            "source": "", 
            "outputs": [], 
            "metadata": {}
        }, 
        {
            "execution_count": null, 
            "cell_type": "code", 
            "source": "", 
            "outputs": [], 
            "metadata": {}
        }, 
        {
            "execution_count": null, 
            "cell_type": "code", 
            "source": "", 
            "outputs": [], 
            "metadata": {}
        }, 
        {
            "execution_count": null, 
            "cell_type": "code", 
            "source": "", 
            "outputs": [], 
            "metadata": {}
        }, 
        {
            "execution_count": null, 
            "cell_type": "code", 
            "source": "", 
            "outputs": [], 
            "metadata": {}
        }, 
        {
            "execution_count": null, 
            "cell_type": "code", 
            "source": "", 
            "outputs": [], 
            "metadata": {}
        }, 
        {
            "execution_count": null, 
            "cell_type": "code", 
            "source": "", 
            "outputs": [], 
            "metadata": {}
        }, 
        {
            "execution_count": null, 
            "cell_type": "code", 
            "source": "", 
            "outputs": [], 
            "metadata": {}
        }, 
        {
            "execution_count": null, 
            "cell_type": "code", 
            "source": "", 
            "outputs": [], 
            "metadata": {}
        }, 
        {
            "execution_count": null, 
            "cell_type": "code", 
            "source": "", 
            "outputs": [], 
            "metadata": {}
        }
    ], 
    "nbformat": 4, 
    "metadata": {
        "kernelspec": {
            "display_name": "Python 3.5 with Spark", 
            "name": "python3", 
            "language": "python3"
        }, 
        "language_info": {
            "mimetype": "text/x-python", 
            "nbconvert_exporter": "python", 
            "version": "3.5.4", 
            "name": "python", 
            "file_extension": ".py", 
            "pygments_lexer": "ipython3", 
            "codemirror_mode": {
                "version": 3, 
                "name": "ipython"
            }
        }
    }
}