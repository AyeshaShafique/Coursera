{
    "nbformat_minor": 1, 
    "cells": [
        {
            "source": "# Welcome\nWelcome the the 1st course on coursera called \"A developer's guide to Exploratory Analysis of IoT Sensor Data\" which can be found here: https://www.coursera.org/teach/developer-iot-data-analyst-exploratory\n", 
            "cell_type": "markdown", 
            "metadata": {
                "collapsed": true
            }
        }, 
        {
            "source": "The intention of this template is to give a framework where the individual programming assignments can be implemented. This is the one for Week 1", 
            "cell_type": "markdown", 
            "metadata": {}
        }, 
        {
            "source": "# Question 1\nBelow you see some ApacheSpark code written in Python which will be picked up by the auto grader of coursera.org. You don't have to change code now, the only thing we want you to do is export this notebook as python code so that the grader can assess it. This is an exercice ment to make sure the submission process works on your side.\n\nPLEASE DON'T ADD ANY CODE OUTSIDE THE assignment1 FUNCTION", 
            "cell_type": "markdown", 
            "metadata": {}
        }, 
        {
            "execution_count": 1, 
            "cell_type": "code", 
            "metadata": {}, 
            "outputs": [
                {
                    "output_type": "stream", 
                    "name": "stdout", 
                    "text": "Waiting for a Spark session to start...\nSpark Initialization Done! ApplicationId = app-20190211062527-0000\nKERNEL_ID = 9a3136b4-a837-4c6e-80d7-16d6f47a3330\n"
                }
            ], 
            "source": "def assignment1(sc):\n    rdd = sc.parallelize(range(100))\n    return rdd.count()"
        }, 
        {
            "execution_count": 2, 
            "cell_type": "code", 
            "metadata": {}, 
            "outputs": [], 
            "source": "### PLEASE DON'T REMOVE THIS BLOCK - THE FOLLOWING CODE IS NOT GRADED\n#axx\n### PLEASE DON'T REMOVE THIS BLOCK - THE FOLLOWING CODE IS NOT GRADED"
        }, 
        {
            "execution_count": 3, 
            "cell_type": "code", 
            "metadata": {}, 
            "outputs": [
                {
                    "output_type": "stream", 
                    "name": "stdout", 
                    "text": "100\n"
                }
            ], 
            "source": "print(assignment1(sc))"
        }, 
        {
            "execution_count": null, 
            "cell_type": "code", 
            "metadata": {}, 
            "outputs": [], 
            "source": ""
        }
    ], 
    "metadata": {
        "kernelspec": {
            "display_name": "Python 3.5 with Spark", 
            "name": "python3", 
            "language": "python3"
        }, 
        "language_info": {
            "mimetype": "text/x-python", 
            "nbconvert_exporter": "python", 
            "version": "3.5.4", 
            "name": "python", 
            "file_extension": ".py", 
            "pygments_lexer": "ipython3", 
            "codemirror_mode": {
                "version": 3, 
                "name": "ipython"
            }
        }
    }, 
    "nbformat": 4
}